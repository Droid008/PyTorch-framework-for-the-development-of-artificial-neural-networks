{
  "cells": [
    {
      "cell_type": "markdown",
      "metadata": {
        "id": "view-in-github",
        "colab_type": "text"
      },
      "source": [
        "<a href=\"https://colab.research.google.com/github/Droid008/PyTorch-framework-for-the-development-of-artificial-neural-networks/blob/Lesson-%237/HW_7.ipynb\" target=\"_parent\"><img src=\"https://colab.research.google.com/assets/colab-badge.svg\" alt=\"Open In Colab\"/></a>"
      ]
    },
    {
      "cell_type": "code",
      "execution_count": 1,
      "id": "f7618f53",
      "metadata": {
        "id": "f7618f53",
        "outputId": "deec38e1-6b37-4e3c-b26c-0e8e4244b5a6",
        "colab": {
          "base_uri": "https://localhost:8080/"
        }
      },
      "outputs": [
        {
          "output_type": "stream",
          "name": "stdout",
          "text": [
            "Random Seed:  999\n"
          ]
        },
        {
          "output_type": "execute_result",
          "data": {
            "text/plain": [
              "<torch._C.Generator at 0x7f1ce62e0670>"
            ]
          },
          "metadata": {},
          "execution_count": 1
        }
      ],
      "source": [
        "import argparse\n",
        "import os\n",
        "import random\n",
        "import torch\n",
        "import torch.nn as nn\n",
        "import torch.nn.parallel\n",
        "import torch.backends.cudnn as cudnn\n",
        "import torch.optim as optim\n",
        "import torch.utils.data\n",
        "import torchvision.datasets as dset\n",
        "import torchvision.transforms as transforms\n",
        "import torchvision.utils as vutils\n",
        "import numpy as np\n",
        "import matplotlib.pyplot as plt\n",
        "import matplotlib.animation as animation\n",
        "from IPython.display import HTML\n",
        "import warnings\n",
        "\n",
        "%matplotlib inline\n",
        "warnings.filterwarnings('ignore')\n",
        "\n",
        "import os\n",
        "os.environ[\"KMP_DUPLICATE_LIB_OK\"]=\"TRUE\"\n",
        "\n",
        "# Set random seed for reproducibility\n",
        "manualSeed = 999\n",
        "#manualSeed = random.randint(1, 10000) # use if you want new results\n",
        "print(\"Random Seed: \", manualSeed)\n",
        "random.seed(manualSeed)\n",
        "torch.manual_seed(manualSeed)"
      ]
    },
    {
      "cell_type": "markdown",
      "id": "67b3458a",
      "metadata": {
        "id": "67b3458a"
      },
      "source": [
        "### 1. Генерация точек графика"
      ]
    },
    {
      "cell_type": "markdown",
      "id": "8722fc44",
      "metadata": {
        "id": "8722fc44"
      },
      "source": [
        "Как было сказано ранее, GAN обучается воспроизводить реальные данные.\n",
        "Поэтому Вам предлагается обучить генератор создавать точки, которые будут\n",
        "лежать на графике функции:\n",
        "\n",
        "$$y=\\frac{sin{x}}{x} −\\frac{x}{10}$$\n",
        "\n",
        "При выполнении данного задания структура GAN остается той же, но Вам нужно:\n",
        " - Сгенерировать настоящие данные\n",
        " - Изменить архитектуру дискриминатора и генератора\n",
        " - Без графиков домашку не принимаю"
      ]
    },
    {
      "cell_type": "code",
      "execution_count": 2,
      "id": "c6f6f600",
      "metadata": {
        "id": "c6f6f600"
      },
      "outputs": [],
      "source": [
        "def my_func(x):\n",
        "    return (torch.sin(x)/x) - (x/10)"
      ]
    },
    {
      "cell_type": "code",
      "execution_count": 3,
      "id": "76d17c3b",
      "metadata": {
        "id": "76d17c3b"
      },
      "outputs": [],
      "source": [
        "train_data_length = 1024\n",
        "train_data = torch.zeros((train_data_length, 2))\n",
        "train_data[:, 0] = 30 * torch.rand(train_data_length) - 15\n",
        "train_data[:, 1] = my_func(train_data[:, 0])\n",
        "train_labels = torch.zeros(train_data_length)\n",
        "train_set = [(train_data[i], train_labels[i]) for i in range(train_data_length)]"
      ]
    },
    {
      "cell_type": "code",
      "execution_count": 4,
      "id": "2eece25d",
      "metadata": {
        "id": "2eece25d",
        "outputId": "328973aa-a0c1-42b6-baa5-bf5c058c48f7",
        "colab": {
          "base_uri": "https://localhost:8080/",
          "height": 282
        }
      },
      "outputs": [
        {
          "output_type": "execute_result",
          "data": {
            "text/plain": [
              "[<matplotlib.lines.Line2D at 0x7f1ce2512590>]"
            ]
          },
          "metadata": {},
          "execution_count": 4
        },
        {
          "output_type": "display_data",
          "data": {
            "text/plain": [
              "<Figure size 432x288 with 1 Axes>"
            ],
            "image/png": "[encoded data removed]"
          },
          "metadata": {
            "needs_background": "light"
          }
        }
      ],
      "source": [
        "plt.plot(train_data[:, 0], train_data[:, 1], \".\")"
      ]
    },
    {
      "cell_type": "code",
      "execution_count": 5,
      "id": "9e1e47c4",
      "metadata": {
        "id": "9e1e47c4"
      },
      "outputs": [],
      "source": [
        "batch_size = 32\n",
        "train_loader = torch.utils.data.DataLoader(\n",
        "    train_set, batch_size=batch_size, shuffle=True)"
      ]
    },
    {
      "cell_type": "code",
      "execution_count": 6,
      "id": "153ee9be",
      "metadata": {
        "id": "153ee9be"
      },
      "outputs": [],
      "source": [
        "class Discriminator(nn.Module):\n",
        "    def __init__(self):\n",
        "        super().__init__()\n",
        "        self.model = nn.Sequential(\n",
        "            nn.Linear(2, 256),\n",
        "            nn.ReLU(),\n",
        "            nn.Dropout(0.3),\n",
        "            nn.Linear(256, 128),\n",
        "            nn.ReLU(),\n",
        "            nn.Dropout(0.3),\n",
        "            nn.Linear(128, 64),\n",
        "            nn.ReLU(),\n",
        "            nn.Dropout(0.3),\n",
        "            nn.Linear(64, 1),\n",
        "            nn.Sigmoid())\n",
        "\n",
        "    def forward(self, x):\n",
        "        output = self.model(x)\n",
        "        return output"
      ]
    },
    {
      "cell_type": "code",
      "execution_count": 7,
      "id": "6a074da7",
      "metadata": {
        "id": "6a074da7"
      },
      "outputs": [],
      "source": [
        "discriminator = Discriminator()"
      ]
    },
    {
      "cell_type": "code",
      "execution_count": 8,
      "id": "8ddcd05f",
      "metadata": {
        "id": "8ddcd05f"
      },
      "outputs": [],
      "source": [
        "class Generator(nn.Module):\n",
        "    def __init__(self):\n",
        "        super().__init__()\n",
        "        self.model = nn.Sequential(\n",
        "            nn.Linear(2, 16),\n",
        "            nn.ReLU(),\n",
        "            nn.Linear(16, 32),\n",
        "            nn.ReLU(),\n",
        "            nn.Linear(32, 2))\n",
        "\n",
        "    def forward(self, x):\n",
        "        output = self.model(x)\n",
        "        return output\n",
        "\n",
        "generator = Generator()"
      ]
    },
    {
      "cell_type": "code",
      "execution_count": 9,
      "id": "e0e74479",
      "metadata": {
        "id": "e0e74479"
      },
      "outputs": [],
      "source": [
        "lr = 0.001\n",
        "num_epochs = 500\n",
        "loss_function = nn.BCELoss()"
      ]
    },
    {
      "cell_type": "code",
      "execution_count": 10,
      "id": "56c6d888",
      "metadata": {
        "id": "56c6d888"
      },
      "outputs": [],
      "source": [
        "optimizer_discriminator = torch.optim.Adam(discriminator.parameters(), lr=lr)\n",
        "optimizer_generator = torch.optim.Adam(generator.parameters(), lr=lr)"
      ]
    },
    {
      "cell_type": "code",
      "execution_count": 11,
      "id": "4999e357",
      "metadata": {
        "id": "4999e357",
        "outputId": "0fbaa44b-1b57-41db-f396-3ca1bc923d07",
        "colab": {
          "base_uri": "https://localhost:8080/"
        }
      },
      "outputs": [
        {
          "output_type": "stream",
          "name": "stdout",
          "text": [
            "Epoch: 0 Loss D.: 0.09207610040903091\n",
            "Epoch: 0 Loss G.: 2.275897979736328\n",
            "Epoch: 50 Loss D.: 0.6326843500137329\n",
            "Epoch: 50 Loss G.: 0.875059187412262\n",
            "Epoch: 100 Loss D.: 0.6386690139770508\n",
            "Epoch: 100 Loss G.: 1.0841065645217896\n",
            "Epoch: 150 Loss D.: 0.6926447153091431\n",
            "Epoch: 150 Loss G.: 0.7551173567771912\n",
            "Epoch: 200 Loss D.: 0.6227330565452576\n",
            "Epoch: 200 Loss G.: 0.7523910403251648\n",
            "Epoch: 250 Loss D.: 0.5867735743522644\n",
            "Epoch: 250 Loss G.: 0.8356497287750244\n",
            "Epoch: 300 Loss D.: 0.5699099898338318\n",
            "Epoch: 300 Loss G.: 0.7776724696159363\n",
            "Epoch: 350 Loss D.: 0.6420992612838745\n",
            "Epoch: 350 Loss G.: 0.9833740592002869\n",
            "Epoch: 400 Loss D.: 0.6097645163536072\n",
            "Epoch: 400 Loss G.: 0.8627021312713623\n",
            "Epoch: 450 Loss D.: 0.5758951306343079\n",
            "Epoch: 450 Loss G.: 1.3914717435836792\n"
          ]
        }
      ],
      "source": [
        "for epoch in range(num_epochs):\n",
        "    for n, (real_samples, _) in enumerate(train_loader):\n",
        "        # Данные для обучения дискриминатора\n",
        "        real_samples_labels = torch.ones((batch_size, 1))\n",
        "        latent_space_samples = torch.randn((batch_size, 2))\n",
        "        generated_samples = generator(latent_space_samples)\n",
        "        generated_samples_labels = torch.zeros((batch_size, 1))\n",
        "        all_samples = torch.cat((real_samples, generated_samples))\n",
        "        all_samples_labels = torch.cat(\n",
        "            (real_samples_labels, generated_samples_labels))\n",
        "\n",
        "        # Обучение дискриминатора\n",
        "        discriminator.zero_grad()\n",
        "        output_discriminator = discriminator(all_samples)\n",
        "        loss_discriminator = loss_function(\n",
        "            output_discriminator, all_samples_labels)\n",
        "        loss_discriminator.backward()\n",
        "        optimizer_discriminator.step()\n",
        "\n",
        "        # Данные для обучения генератора\n",
        "        latent_space_samples = torch.randn((batch_size, 2))\n",
        "\n",
        "        # Обучение генератора\n",
        "        generator.zero_grad()\n",
        "        generated_samples = generator(latent_space_samples)\n",
        "        output_discriminator_generated = discriminator(generated_samples)\n",
        "        loss_generator = loss_function(\n",
        "            output_discriminator_generated, real_samples_labels)\n",
        "        loss_generator.backward()\n",
        "        optimizer_generator.step()\n",
        "\n",
        "        # Выводим значения функций потерь\n",
        "        if epoch % 50 == 0 and n == batch_size - 1:\n",
        "            print(f\"Epoch: {epoch} Loss D.: {loss_discriminator}\")\n",
        "            print(f\"Epoch: {epoch} Loss G.: {loss_generator}\")"
      ]
    },
    {
      "cell_type": "code",
      "execution_count": 12,
      "id": "5fba4a0d",
      "metadata": {
        "id": "5fba4a0d"
      },
      "outputs": [],
      "source": [
        "latent_space_samples = torch.randn(300, 2)\n",
        "generated_samples = generator(latent_space_samples)"
      ]
    },
    {
      "cell_type": "code",
      "execution_count": 13,
      "id": "aed19243",
      "metadata": {
        "id": "aed19243",
        "outputId": "308f5728-de03-440f-8c49-0ea111f6a2fc",
        "colab": {
          "base_uri": "https://localhost:8080/",
          "height": 282
        }
      },
      "outputs": [
        {
          "output_type": "execute_result",
          "data": {
            "text/plain": [
              "[<matplotlib.lines.Line2D at 0x7f1ce1fa7750>]"
            ]
          },
          "metadata": {},
          "execution_count": 13
        },
        {
          "output_type": "display_data",
          "data": {
            "text/plain": [
              "<Figure size 432x288 with 1 Axes>"
            ],
            "image/png": "[encoded data removed]"
          },
          "metadata": {
            "needs_background": "light"
          }
        }
      ],
      "source": [
        "generated_samples = generated_samples.detach()\n",
        "plt.plot(generated_samples[:, 0], generated_samples[:, 1], \".\")"
      ]
    }
  ],
  "metadata": {
    "kernelspec": {
      "display_name": "Python 3 (ipykernel)",
      "language": "python",
      "name": "python3"
    },
    "language_info": {
      "codemirror_mode": {
        "name": "ipython",
        "version": 3
      },
      "file_extension": ".py",
      "mimetype": "text/x-python",
      "name": "python",
      "nbconvert_exporter": "python",
      "pygments_lexer": "ipython3",
      "version": "3.8.5"
    },
    "colab": {
      "name": "HW-#7.ipynb",
      "provenance": [],
      "include_colab_link": true
    }
  },
  "nbformat": 4,
  "nbformat_minor": 5
}