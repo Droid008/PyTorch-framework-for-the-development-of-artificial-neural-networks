{
 "cells": [
  {
   "cell_type": "code",
   "execution_count": 1,
   "metadata": {
    "executionInfo": {
     "elapsed": 492,
     "status": "ok",
     "timestamp": 1638807638703,
     "user": {
      "displayName": "Эмиль Фаттахов",
      "photoUrl": "https://lh3.googleusercontent.com/a/default-user=s64",
      "userId": "00972235813792243292"
     },
     "user_tz": -300
    },
    "id": "74tyOtySLfz8"
   },
   "outputs": [],
   "source": [
    "import numpy as np\n",
    "import pandas as pd\n",
    "import warnings\n",
    "import matplotlib.pyplot as plt\n",
    "warnings.filterwarnings('ignore')\n",
    "%matplotlib inline"
   ]
  },
  {
   "cell_type": "code",
   "execution_count": 2,
   "metadata": {
    "executionInfo": {
     "elapsed": 6518,
     "status": "ok",
     "timestamp": 1638807645708,
     "user": {
      "displayName": "Эмиль Фаттахов",
      "photoUrl": "https://lh3.googleusercontent.com/a/default-user=s64",
      "userId": "00972235813792243292"
     },
     "user_tz": -300
    },
    "id": "mrNkzJflLzyO"
   },
   "outputs": [],
   "source": [
    "import torch\n",
    "import torchvision\n",
    "from torch import nn\n",
    "import torch.nn.functional as F\n",
    "from torch import optim\n",
    "from tqdm import tqdm_notebook\n",
    "import torchvision.transforms as transforms\n",
    "from sklearn.model_selection import train_test_split\n",
    "from sklearn.preprocessing import MinMaxScaler, LabelEncoder"
   ]
  },
  {
   "cell_type": "code",
   "execution_count": 3,
   "metadata": {
    "colab": {
     "base_uri": "https://localhost:8080/"
    },
    "executionInfo": {
     "elapsed": 13,
     "status": "ok",
     "timestamp": 1638807645710,
     "user": {
      "displayName": "Эмиль Фаттахов",
      "photoUrl": "https://lh3.googleusercontent.com/a/default-user=s64",
      "userId": "00972235813792243292"
     },
     "user_tz": -300
    },
    "id": "VH0V2adWL329",
    "outputId": "e0acdf4c-28ab-46fa-d144-4dc79ae1884a"
   },
   "outputs": [
    {
     "name": "stdout",
     "output_type": "stream",
     "text": [
      "cuda:0\n"
     ]
    }
   ],
   "source": [
    "device = torch.device(\"cuda:0\" if torch.cuda.is_available() else \"cpu\")\n",
    "print(device)"
   ]
  },
  {
   "cell_type": "code",
   "execution_count": 4,
   "metadata": {
    "colab": {
     "base_uri": "https://localhost:8080/"
    },
    "executionInfo": {
     "elapsed": 40748,
     "status": "ok",
     "timestamp": 1638807686452,
     "user": {
      "displayName": "Эмиль Фаттахов",
      "photoUrl": "https://lh3.googleusercontent.com/a/default-user=s64",
      "userId": "00972235813792243292"
     },
     "user_tz": -300
    },
    "id": "4s_xmbPCL_Ve",
    "outputId": "5f5b35d5-5daf-4467-a5bd-dc1c78b28dd4"
   },
   "outputs": [
    {
     "name": "stdout",
     "output_type": "stream",
     "text": [
      "Mounted at /content/drive\n"
     ]
    }
   ],
   "source": [
    "from google.colab import drive\n",
    "drive.mount('/content/drive')"
   ]
  },
  {
   "cell_type": "code",
   "execution_count": 5,
   "metadata": {
    "colab": {
     "base_uri": "https://localhost:8080/",
     "height": 382
    },
    "executionInfo": {
     "elapsed": 19994,
     "status": "ok",
     "timestamp": 1638807706441,
     "user": {
      "displayName": "Эмиль Фаттахов",
      "photoUrl": "https://lh3.googleusercontent.com/a/default-user=s64",
      "userId": "00972235813792243292"
     },
     "user_tz": -300
    },
    "id": "dYe_NVJQL8ju",
    "outputId": "aebf8ea6-b2d6-47ba-f02a-e0faa8b8cbec"
   },
   "outputs": [
    {
     "data": {
      "text/html": [
       "<div>\n",
       "<style scoped>\n",
       "    .dataframe tbody tr th:only-of-type {\n",
       "        vertical-align: middle;\n",
       "    }\n",
       "\n",
       "    .dataframe tbody tr th {\n",
       "        vertical-align: top;\n",
       "    }\n",
       "\n",
       "    .dataframe thead th {\n",
       "        text-align: right;\n",
       "    }\n",
       "</style>\n",
       "<table border=\"1\" class=\"dataframe\">\n",
       "  <thead>\n",
       "    <tr style=\"text-align: right;\">\n",
       "      <th></th>\n",
       "      <th>item_id</th>\n",
       "      <th>user_id</th>\n",
       "      <th>region</th>\n",
       "      <th>city</th>\n",
       "      <th>parent_category_name</th>\n",
       "      <th>category_name</th>\n",
       "      <th>param_1</th>\n",
       "      <th>param_2</th>\n",
       "      <th>param_3</th>\n",
       "      <th>title</th>\n",
       "      <th>description</th>\n",
       "      <th>price</th>\n",
       "      <th>item_seq_number</th>\n",
       "      <th>activation_date</th>\n",
       "      <th>user_type</th>\n",
       "      <th>image</th>\n",
       "      <th>image_top_1</th>\n",
       "      <th>deal_probability</th>\n",
       "    </tr>\n",
       "  </thead>\n",
       "  <tbody>\n",
       "    <tr>\n",
       "      <th>0</th>\n",
       "      <td>b912c3c6a6ad</td>\n",
       "      <td>e00f8ff2eaf9</td>\n",
       "      <td>Свердловская область</td>\n",
       "      <td>Екатеринбург</td>\n",
       "      <td>Личные вещи</td>\n",
       "      <td>Товары для детей и игрушки</td>\n",
       "      <td>Постельные принадлежности</td>\n",
       "      <td>NaN</td>\n",
       "      <td>NaN</td>\n",
       "      <td>Кокоби(кокон для сна)</td>\n",
       "      <td>Кокон для сна малыша,пользовались меньше месяц...</td>\n",
       "      <td>400.0</td>\n",
       "      <td>2</td>\n",
       "      <td>2017-03-28</td>\n",
       "      <td>Private</td>\n",
       "      <td>d10c7e016e03247a3bf2d13348fe959fe6f436c1caf64c...</td>\n",
       "      <td>1008.0</td>\n",
       "      <td>0.12789</td>\n",
       "    </tr>\n",
       "    <tr>\n",
       "      <th>1</th>\n",
       "      <td>2dac0150717d</td>\n",
       "      <td>39aeb48f0017</td>\n",
       "      <td>Самарская область</td>\n",
       "      <td>Самара</td>\n",
       "      <td>Для дома и дачи</td>\n",
       "      <td>Мебель и интерьер</td>\n",
       "      <td>Другое</td>\n",
       "      <td>NaN</td>\n",
       "      <td>NaN</td>\n",
       "      <td>Стойка для Одежды</td>\n",
       "      <td>Стойка для одежды, под вешалки. С бутика.</td>\n",
       "      <td>3000.0</td>\n",
       "      <td>19</td>\n",
       "      <td>2017-03-26</td>\n",
       "      <td>Private</td>\n",
       "      <td>79c9392cc51a9c81c6eb91eceb8e552171db39d7142700...</td>\n",
       "      <td>692.0</td>\n",
       "      <td>0.00000</td>\n",
       "    </tr>\n",
       "    <tr>\n",
       "      <th>2</th>\n",
       "      <td>ba83aefab5dc</td>\n",
       "      <td>91e2f88dd6e3</td>\n",
       "      <td>Ростовская область</td>\n",
       "      <td>Ростов-на-Дону</td>\n",
       "      <td>Бытовая электроника</td>\n",
       "      <td>Аудио и видео</td>\n",
       "      <td>Видео, DVD и Blu-ray плееры</td>\n",
       "      <td>NaN</td>\n",
       "      <td>NaN</td>\n",
       "      <td>Philips bluray</td>\n",
       "      <td>В хорошем состоянии, домашний кинотеатр с blu ...</td>\n",
       "      <td>4000.0</td>\n",
       "      <td>9</td>\n",
       "      <td>2017-03-20</td>\n",
       "      <td>Private</td>\n",
       "      <td>b7f250ee3f39e1fedd77c141f273703f4a9be59db4b48a...</td>\n",
       "      <td>3032.0</td>\n",
       "      <td>0.43177</td>\n",
       "    </tr>\n",
       "    <tr>\n",
       "      <th>3</th>\n",
       "      <td>02996f1dd2ea</td>\n",
       "      <td>bf5cccea572d</td>\n",
       "      <td>Татарстан</td>\n",
       "      <td>Набережные Челны</td>\n",
       "      <td>Личные вещи</td>\n",
       "      <td>Товары для детей и игрушки</td>\n",
       "      <td>Автомобильные кресла</td>\n",
       "      <td>NaN</td>\n",
       "      <td>NaN</td>\n",
       "      <td>Автокресло</td>\n",
       "      <td>Продам кресло от0-25кг</td>\n",
       "      <td>2200.0</td>\n",
       "      <td>286</td>\n",
       "      <td>2017-03-25</td>\n",
       "      <td>Company</td>\n",
       "      <td>e6ef97e0725637ea84e3d203e82dadb43ed3cc0a1c8413...</td>\n",
       "      <td>796.0</td>\n",
       "      <td>0.80323</td>\n",
       "    </tr>\n",
       "    <tr>\n",
       "      <th>4</th>\n",
       "      <td>7c90be56d2ab</td>\n",
       "      <td>ef50846afc0b</td>\n",
       "      <td>Волгоградская область</td>\n",
       "      <td>Волгоград</td>\n",
       "      <td>Транспорт</td>\n",
       "      <td>Автомобили</td>\n",
       "      <td>С пробегом</td>\n",
       "      <td>ВАЗ (LADA)</td>\n",
       "      <td>2110</td>\n",
       "      <td>ВАЗ 2110, 2003</td>\n",
       "      <td>Все вопросы по телефону.</td>\n",
       "      <td>40000.0</td>\n",
       "      <td>3</td>\n",
       "      <td>2017-03-16</td>\n",
       "      <td>Private</td>\n",
       "      <td>54a687a3a0fc1d68aed99bdaaf551c5c70b761b16fd0a2...</td>\n",
       "      <td>2264.0</td>\n",
       "      <td>0.20797</td>\n",
       "    </tr>\n",
       "  </tbody>\n",
       "</table>\n",
       "</div>"
      ],
      "text/plain": [
       "        item_id       user_id  ... image_top_1 deal_probability\n",
       "0  b912c3c6a6ad  e00f8ff2eaf9  ...      1008.0          0.12789\n",
       "1  2dac0150717d  39aeb48f0017  ...       692.0          0.00000\n",
       "2  ba83aefab5dc  91e2f88dd6e3  ...      3032.0          0.43177\n",
       "3  02996f1dd2ea  bf5cccea572d  ...       796.0          0.80323\n",
       "4  7c90be56d2ab  ef50846afc0b  ...      2264.0          0.20797\n",
       "\n",
       "[5 rows x 18 columns]"
      ]
     },
     "execution_count": 5,
     "metadata": {},
     "output_type": "execute_result"
    }
   ],
   "source": [
    "data = pd.read_csv('/content/drive/MyDrive/PyTorch_framework_for_the_development_of_artificial_neural_networks/Data/train.csv')\n",
    "data.head()"
   ]
  },
  {
   "cell_type": "code",
   "execution_count": 6,
   "metadata": {
    "executionInfo": {
     "elapsed": 12940,
     "status": "ok",
     "timestamp": 1638807719374,
     "user": {
      "displayName": "Эмиль Фаттахов",
      "photoUrl": "https://lh3.googleusercontent.com/a/default-user=s64",
      "userId": "00972235813792243292"
     },
     "user_tz": -300
    },
    "id": "d9Vr_6OUPf2P"
   },
   "outputs": [],
   "source": [
    "data.activation_date = pd.to_datetime(data.activation_date)\n",
    "data['day_of_month'] = data.activation_date.apply(lambda x: x.day)\n",
    "data['day_of_week'] = data.activation_date.apply(lambda x: x.weekday())"
   ]
  },
  {
   "cell_type": "code",
   "execution_count": 7,
   "metadata": {
    "colab": {
     "base_uri": "https://localhost:8080/",
     "height": 49,
     "referenced_widgets": [
      "bc499f893d4b4a62b24d7aa86f050ef8",
      "47528fc6dd1345239d6f77622a4243a2",
      "0657aaadb54f477bbeb5d859743d5de2",
      "6f04e2f2286144cc8a16af2d33961ab0",
      "daea1e913b32461e81c4717dd7cd280d",
      "cebe08646cee4216a140f8c07c65d044",
      "e95a1ed58d874183b28784e8ee6a0fc7",
      "9f0efa31219e4fe59b8b017e033e7aaf",
      "203a1569a5584c6c8150e4294c7fbefb",
      "77d228c30b3e42fbab702f73b7314b0f",
      "5d4b4af920a34ff9bb5a7e5771c25b89"
     ]
    },
    "executionInfo": {
     "elapsed": 3200,
     "status": "ok",
     "timestamp": 1638807722526,
     "user": {
      "displayName": "Эмиль Фаттахов",
      "photoUrl": "https://lh3.googleusercontent.com/a/default-user=s64",
      "userId": "00972235813792243292"
     },
     "user_tz": -300
    },
    "id": "qcok3EfeZvAX",
    "outputId": "faedebe4-89a2-4d6e-b153-c401b7e50c36"
   },
   "outputs": [
    {
     "data": {
      "application/vnd.jupyter.widget-view+json": {
       "model_id": "bc499f893d4b4a62b24d7aa86f050ef8",
       "version_major": 2,
       "version_minor": 0
      },
      "text/plain": [
       "  0%|          | 0/5 [00:00<?, ?it/s]"
      ]
     },
     "metadata": {},
     "output_type": "display_data"
    }
   ],
   "source": [
    "agg_cols = ['region', 'category_name',\n",
    "            'city', 'user_type', 'parent_category_name']\n",
    "for col in tqdm_notebook(agg_cols):\n",
    "    le = LabelEncoder()\n",
    "    le.fit(data[col])\n",
    "    data[col] = le.transform(data[col])\n",
    "    gp = data.groupby(col)['deal_probability']\n",
    "    mean = gp.mean()\n",
    "    data[col + '_deal_probability_avg'] = data[col].map(mean)"
   ]
  },
  {
   "cell_type": "code",
   "execution_count": 8,
   "metadata": {
    "colab": {
     "base_uri": "https://localhost:8080/",
     "height": 365
    },
    "executionInfo": {
     "elapsed": 28,
     "status": "ok",
     "timestamp": 1638807722529,
     "user": {
      "displayName": "Эмиль Фаттахов",
      "photoUrl": "https://lh3.googleusercontent.com/a/default-user=s64",
      "userId": "00972235813792243292"
     },
     "user_tz": -300
    },
    "id": "Yk9TcCZTeoTc",
    "outputId": "fd60c839-3301-4115-af29-0ea1533ad871"
   },
   "outputs": [
    {
     "data": {
      "text/html": [
       "<div>\n",
       "<style scoped>\n",
       "    .dataframe tbody tr th:only-of-type {\n",
       "        vertical-align: middle;\n",
       "    }\n",
       "\n",
       "    .dataframe tbody tr th {\n",
       "        vertical-align: top;\n",
       "    }\n",
       "\n",
       "    .dataframe thead th {\n",
       "        text-align: right;\n",
       "    }\n",
       "</style>\n",
       "<table border=\"1\" class=\"dataframe\">\n",
       "  <thead>\n",
       "    <tr style=\"text-align: right;\">\n",
       "      <th></th>\n",
       "      <th>item_id</th>\n",
       "      <th>user_id</th>\n",
       "      <th>region</th>\n",
       "      <th>city</th>\n",
       "      <th>parent_category_name</th>\n",
       "      <th>category_name</th>\n",
       "      <th>param_1</th>\n",
       "      <th>param_2</th>\n",
       "      <th>param_3</th>\n",
       "      <th>title</th>\n",
       "      <th>description</th>\n",
       "      <th>price</th>\n",
       "      <th>item_seq_number</th>\n",
       "      <th>activation_date</th>\n",
       "      <th>user_type</th>\n",
       "      <th>image</th>\n",
       "      <th>image_top_1</th>\n",
       "      <th>deal_probability</th>\n",
       "      <th>day_of_month</th>\n",
       "      <th>day_of_week</th>\n",
       "      <th>region_deal_probability_avg</th>\n",
       "      <th>category_name_deal_probability_avg</th>\n",
       "      <th>city_deal_probability_avg</th>\n",
       "      <th>user_type_deal_probability_avg</th>\n",
       "      <th>parent_category_name_deal_probability_avg</th>\n",
       "    </tr>\n",
       "  </thead>\n",
       "  <tbody>\n",
       "    <tr>\n",
       "      <th>0</th>\n",
       "      <td>b912c3c6a6ad</td>\n",
       "      <td>e00f8ff2eaf9</td>\n",
       "      <td>19</td>\n",
       "      <td>460</td>\n",
       "      <td>4</td>\n",
       "      <td>42</td>\n",
       "      <td>Постельные принадлежности</td>\n",
       "      <td>NaN</td>\n",
       "      <td>NaN</td>\n",
       "      <td>Кокоби(кокон для сна)</td>\n",
       "      <td>Кокон для сна малыша,пользовались меньше месяц...</td>\n",
       "      <td>400.0</td>\n",
       "      <td>2</td>\n",
       "      <td>2017-03-28</td>\n",
       "      <td>1</td>\n",
       "      <td>d10c7e016e03247a3bf2d13348fe959fe6f436c1caf64c...</td>\n",
       "      <td>1008.0</td>\n",
       "      <td>0.12789</td>\n",
       "      <td>28</td>\n",
       "      <td>1</td>\n",
       "      <td>0.122004</td>\n",
       "      <td>0.198445</td>\n",
       "      <td>0.123397</td>\n",
       "      <td>0.149557</td>\n",
       "      <td>0.075876</td>\n",
       "    </tr>\n",
       "    <tr>\n",
       "      <th>1</th>\n",
       "      <td>2dac0150717d</td>\n",
       "      <td>39aeb48f0017</td>\n",
       "      <td>17</td>\n",
       "      <td>1300</td>\n",
       "      <td>2</td>\n",
       "      <td>22</td>\n",
       "      <td>Другое</td>\n",
       "      <td>NaN</td>\n",
       "      <td>NaN</td>\n",
       "      <td>Стойка для Одежды</td>\n",
       "      <td>Стойка для одежды, под вешалки. С бутика.</td>\n",
       "      <td>3000.0</td>\n",
       "      <td>19</td>\n",
       "      <td>2017-03-26</td>\n",
       "      <td>1</td>\n",
       "      <td>79c9392cc51a9c81c6eb91eceb8e552171db39d7142700...</td>\n",
       "      <td>692.0</td>\n",
       "      <td>0.00000</td>\n",
       "      <td>26</td>\n",
       "      <td>6</td>\n",
       "      <td>0.136721</td>\n",
       "      <td>0.191848</td>\n",
       "      <td>0.139400</td>\n",
       "      <td>0.149557</td>\n",
       "      <td>0.179633</td>\n",
       "    </tr>\n",
       "    <tr>\n",
       "      <th>2</th>\n",
       "      <td>ba83aefab5dc</td>\n",
       "      <td>91e2f88dd6e3</td>\n",
       "      <td>16</td>\n",
       "      <td>1276</td>\n",
       "      <td>0</td>\n",
       "      <td>2</td>\n",
       "      <td>Видео, DVD и Blu-ray плееры</td>\n",
       "      <td>NaN</td>\n",
       "      <td>NaN</td>\n",
       "      <td>Philips bluray</td>\n",
       "      <td>В хорошем состоянии, домашний кинотеатр с blu ...</td>\n",
       "      <td>4000.0</td>\n",
       "      <td>9</td>\n",
       "      <td>2017-03-20</td>\n",
       "      <td>1</td>\n",
       "      <td>b7f250ee3f39e1fedd77c141f273703f4a9be59db4b48a...</td>\n",
       "      <td>3032.0</td>\n",
       "      <td>0.43177</td>\n",
       "      <td>20</td>\n",
       "      <td>0</td>\n",
       "      <td>0.135944</td>\n",
       "      <td>0.171572</td>\n",
       "      <td>0.124881</td>\n",
       "      <td>0.149557</td>\n",
       "      <td>0.175421</td>\n",
       "    </tr>\n",
       "    <tr>\n",
       "      <th>3</th>\n",
       "      <td>02996f1dd2ea</td>\n",
       "      <td>bf5cccea572d</td>\n",
       "      <td>21</td>\n",
       "      <td>940</td>\n",
       "      <td>4</td>\n",
       "      <td>42</td>\n",
       "      <td>Автомобильные кресла</td>\n",
       "      <td>NaN</td>\n",
       "      <td>NaN</td>\n",
       "      <td>Автокресло</td>\n",
       "      <td>Продам кресло от0-25кг</td>\n",
       "      <td>2200.0</td>\n",
       "      <td>286</td>\n",
       "      <td>2017-03-25</td>\n",
       "      <td>0</td>\n",
       "      <td>e6ef97e0725637ea84e3d203e82dadb43ed3cc0a1c8413...</td>\n",
       "      <td>796.0</td>\n",
       "      <td>0.80323</td>\n",
       "      <td>25</td>\n",
       "      <td>5</td>\n",
       "      <td>0.142602</td>\n",
       "      <td>0.198445</td>\n",
       "      <td>0.135031</td>\n",
       "      <td>0.124513</td>\n",
       "      <td>0.075876</td>\n",
       "    </tr>\n",
       "    <tr>\n",
       "      <th>4</th>\n",
       "      <td>7c90be56d2ab</td>\n",
       "      <td>ef50846afc0b</td>\n",
       "      <td>4</td>\n",
       "      <td>317</td>\n",
       "      <td>6</td>\n",
       "      <td>0</td>\n",
       "      <td>С пробегом</td>\n",
       "      <td>ВАЗ (LADA)</td>\n",
       "      <td>2110</td>\n",
       "      <td>ВАЗ 2110, 2003</td>\n",
       "      <td>Все вопросы по телефону.</td>\n",
       "      <td>40000.0</td>\n",
       "      <td>3</td>\n",
       "      <td>2017-03-16</td>\n",
       "      <td>1</td>\n",
       "      <td>54a687a3a0fc1d68aed99bdaaf551c5c70b761b16fd0a2...</td>\n",
       "      <td>2264.0</td>\n",
       "      <td>0.20797</td>\n",
       "      <td>16</td>\n",
       "      <td>3</td>\n",
       "      <td>0.145908</td>\n",
       "      <td>0.278427</td>\n",
       "      <td>0.137275</td>\n",
       "      <td>0.149557</td>\n",
       "      <td>0.263336</td>\n",
       "    </tr>\n",
       "  </tbody>\n",
       "</table>\n",
       "</div>"
      ],
      "text/plain": [
       "        item_id  ... parent_category_name_deal_probability_avg\n",
       "0  b912c3c6a6ad  ...                                  0.075876\n",
       "1  2dac0150717d  ...                                  0.179633\n",
       "2  ba83aefab5dc  ...                                  0.175421\n",
       "3  02996f1dd2ea  ...                                  0.075876\n",
       "4  7c90be56d2ab  ...                                  0.263336\n",
       "\n",
       "[5 rows x 25 columns]"
      ]
     },
     "execution_count": 8,
     "metadata": {},
     "output_type": "execute_result"
    }
   ],
   "source": [
    "data.head()"
   ]
  },
  {
   "cell_type": "code",
   "execution_count": 9,
   "metadata": {
    "executionInfo": {
     "elapsed": 625,
     "status": "ok",
     "timestamp": 1638807723130,
     "user": {
      "displayName": "Эмиль Фаттахов",
      "photoUrl": "https://lh3.googleusercontent.com/a/default-user=s64",
      "userId": "00972235813792243292"
     },
     "user_tz": -300
    },
    "id": "9IwJy85cfOV9"
   },
   "outputs": [],
   "source": [
    "data = data.drop(['user_id', 'description', 'image', 'parent_category_name',\n",
    "                    'item_id', 'param_1', 'param_2', 'param_3', 'title', 'activation_date'], axis=1)"
   ]
  },
  {
   "cell_type": "code",
   "execution_count": 10,
   "metadata": {
    "executionInfo": {
     "elapsed": 14,
     "status": "ok",
     "timestamp": 1638807723131,
     "user": {
      "displayName": "Эмиль Фаттахов",
      "photoUrl": "https://lh3.googleusercontent.com/a/default-user=s64",
      "userId": "00972235813792243292"
     },
     "user_tz": -300
    },
    "id": "GiPmXA7FgKsm"
   },
   "outputs": [],
   "source": [
    "for col in data.columns:\n",
    "    if data[col].isna().sum() > 0:\n",
    "        data[col].fillna(data[col].median(), inplace=True)"
   ]
  },
  {
   "cell_type": "code",
   "execution_count": 11,
   "metadata": {
    "colab": {
     "base_uri": "https://localhost:8080/",
     "height": 550
    },
    "executionInfo": {
     "elapsed": 17,
     "status": "ok",
     "timestamp": 1638807723134,
     "user": {
      "displayName": "Эмиль Фаттахов",
      "photoUrl": "https://lh3.googleusercontent.com/a/default-user=s64",
      "userId": "00972235813792243292"
     },
     "user_tz": -300
    },
    "id": "NNwqdY4hgXrU",
    "outputId": "bd68511d-2c83-4e1f-847f-b834b44b7a2f"
   },
   "outputs": [
    {
     "name": "stdout",
     "output_type": "stream",
     "text": [
      "<class 'pandas.core.frame.DataFrame'>\n",
      "RangeIndex: 1503424 entries, 0 to 1503423\n",
      "Data columns (total 15 columns):\n",
      " #   Column                                     Non-Null Count    Dtype  \n",
      "---  ------                                     --------------    -----  \n",
      " 0   region                                     1503424 non-null  int64  \n",
      " 1   city                                       1503424 non-null  int64  \n",
      " 2   category_name                              1503424 non-null  int64  \n",
      " 3   price                                      1503424 non-null  float64\n",
      " 4   item_seq_number                            1503424 non-null  int64  \n",
      " 5   user_type                                  1503424 non-null  int64  \n",
      " 6   image_top_1                                1503424 non-null  float64\n",
      " 7   deal_probability                           1503424 non-null  float64\n",
      " 8   day_of_month                               1503424 non-null  int64  \n",
      " 9   day_of_week                                1503424 non-null  int64  \n",
      " 10  region_deal_probability_avg                1503424 non-null  float64\n",
      " 11  category_name_deal_probability_avg         1503424 non-null  float64\n",
      " 12  city_deal_probability_avg                  1503424 non-null  float64\n",
      " 13  user_type_deal_probability_avg             1503424 non-null  float64\n",
      " 14  parent_category_name_deal_probability_avg  1503424 non-null  float64\n",
      "dtypes: float64(8), int64(7)\n",
      "memory usage: 172.1 MB\n"
     ]
    },
    {
     "data": {
      "text/html": [
       "<div>\n",
       "<style scoped>\n",
       "    .dataframe tbody tr th:only-of-type {\n",
       "        vertical-align: middle;\n",
       "    }\n",
       "\n",
       "    .dataframe tbody tr th {\n",
       "        vertical-align: top;\n",
       "    }\n",
       "\n",
       "    .dataframe thead th {\n",
       "        text-align: right;\n",
       "    }\n",
       "</style>\n",
       "<table border=\"1\" class=\"dataframe\">\n",
       "  <thead>\n",
       "    <tr style=\"text-align: right;\">\n",
       "      <th></th>\n",
       "      <th>region</th>\n",
       "      <th>city</th>\n",
       "      <th>category_name</th>\n",
       "      <th>price</th>\n",
       "      <th>item_seq_number</th>\n",
       "      <th>user_type</th>\n",
       "      <th>image_top_1</th>\n",
       "      <th>deal_probability</th>\n",
       "      <th>day_of_month</th>\n",
       "      <th>day_of_week</th>\n",
       "      <th>region_deal_probability_avg</th>\n",
       "      <th>category_name_deal_probability_avg</th>\n",
       "      <th>city_deal_probability_avg</th>\n",
       "      <th>user_type_deal_probability_avg</th>\n",
       "      <th>parent_category_name_deal_probability_avg</th>\n",
       "    </tr>\n",
       "  </thead>\n",
       "  <tbody>\n",
       "    <tr>\n",
       "      <th>0</th>\n",
       "      <td>19</td>\n",
       "      <td>460</td>\n",
       "      <td>42</td>\n",
       "      <td>400.0</td>\n",
       "      <td>2</td>\n",
       "      <td>1</td>\n",
       "      <td>1008.0</td>\n",
       "      <td>0.12789</td>\n",
       "      <td>28</td>\n",
       "      <td>1</td>\n",
       "      <td>0.122004</td>\n",
       "      <td>0.198445</td>\n",
       "      <td>0.123397</td>\n",
       "      <td>0.149557</td>\n",
       "      <td>0.075876</td>\n",
       "    </tr>\n",
       "    <tr>\n",
       "      <th>1</th>\n",
       "      <td>17</td>\n",
       "      <td>1300</td>\n",
       "      <td>22</td>\n",
       "      <td>3000.0</td>\n",
       "      <td>19</td>\n",
       "      <td>1</td>\n",
       "      <td>692.0</td>\n",
       "      <td>0.00000</td>\n",
       "      <td>26</td>\n",
       "      <td>6</td>\n",
       "      <td>0.136721</td>\n",
       "      <td>0.191848</td>\n",
       "      <td>0.139400</td>\n",
       "      <td>0.149557</td>\n",
       "      <td>0.179633</td>\n",
       "    </tr>\n",
       "  </tbody>\n",
       "</table>\n",
       "</div>"
      ],
      "text/plain": [
       "   region  ...  parent_category_name_deal_probability_avg\n",
       "0      19  ...                                   0.075876\n",
       "1      17  ...                                   0.179633\n",
       "\n",
       "[2 rows x 15 columns]"
      ]
     },
     "metadata": {},
     "output_type": "display_data"
    },
    {
     "data": {
      "text/plain": [
       "None"
      ]
     },
     "metadata": {},
     "output_type": "display_data"
    }
   ],
   "source": [
    "display(data.head(2), data.info())"
   ]
  },
  {
   "cell_type": "code",
   "execution_count": 12,
   "metadata": {
    "colab": {
     "base_uri": "https://localhost:8080/",
     "height": 132
    },
    "executionInfo": {
     "elapsed": 887,
     "status": "ok",
     "timestamp": 1638807724010,
     "user": {
      "displayName": "Эмиль Фаттахов",
      "photoUrl": "https://lh3.googleusercontent.com/a/default-user=s64",
      "userId": "00972235813792243292"
     },
     "user_tz": -300
    },
    "id": "g7qV9voJgqbL",
    "outputId": "fa490491-4088-4c40-839f-a058995b57a5"
   },
   "outputs": [
    {
     "data": {
      "text/html": [
       "<div>\n",
       "<style scoped>\n",
       "    .dataframe tbody tr th:only-of-type {\n",
       "        vertical-align: middle;\n",
       "    }\n",
       "\n",
       "    .dataframe tbody tr th {\n",
       "        vertical-align: top;\n",
       "    }\n",
       "\n",
       "    .dataframe thead th {\n",
       "        text-align: right;\n",
       "    }\n",
       "</style>\n",
       "<table border=\"1\" class=\"dataframe\">\n",
       "  <thead>\n",
       "    <tr style=\"text-align: right;\">\n",
       "      <th></th>\n",
       "      <th>region</th>\n",
       "      <th>city</th>\n",
       "      <th>category_name</th>\n",
       "      <th>price</th>\n",
       "      <th>item_seq_number</th>\n",
       "      <th>user_type</th>\n",
       "      <th>image_top_1</th>\n",
       "      <th>deal_probability</th>\n",
       "      <th>day_of_month</th>\n",
       "      <th>day_of_week</th>\n",
       "      <th>region_deal_probability_avg</th>\n",
       "      <th>category_name_deal_probability_avg</th>\n",
       "      <th>city_deal_probability_avg</th>\n",
       "      <th>user_type_deal_probability_avg</th>\n",
       "      <th>parent_category_name_deal_probability_avg</th>\n",
       "    </tr>\n",
       "  </thead>\n",
       "  <tbody>\n",
       "    <tr>\n",
       "      <th>31723</th>\n",
       "      <td>9</td>\n",
       "      <td>755</td>\n",
       "      <td>9</td>\n",
       "      <td>1300.0</td>\n",
       "      <td>6</td>\n",
       "      <td>1</td>\n",
       "      <td>1056.0</td>\n",
       "      <td>0.0</td>\n",
       "      <td>23</td>\n",
       "      <td>3</td>\n",
       "      <td>0.147066</td>\n",
       "      <td>0.178480</td>\n",
       "      <td>0.189069</td>\n",
       "      <td>0.149557</td>\n",
       "      <td>0.263336</td>\n",
       "    </tr>\n",
       "    <tr>\n",
       "      <th>929954</th>\n",
       "      <td>19</td>\n",
       "      <td>460</td>\n",
       "      <td>29</td>\n",
       "      <td>1300.0</td>\n",
       "      <td>16</td>\n",
       "      <td>1</td>\n",
       "      <td>399.0</td>\n",
       "      <td>0.0</td>\n",
       "      <td>28</td>\n",
       "      <td>1</td>\n",
       "      <td>0.122004</td>\n",
       "      <td>0.046447</td>\n",
       "      <td>0.123397</td>\n",
       "      <td>0.149557</td>\n",
       "      <td>0.075876</td>\n",
       "    </tr>\n",
       "  </tbody>\n",
       "</table>\n",
       "</div>"
      ],
      "text/plain": [
       "        region  ...  parent_category_name_deal_probability_avg\n",
       "31723        9  ...                                   0.263336\n",
       "929954      19  ...                                   0.075876\n",
       "\n",
       "[2 rows x 15 columns]"
      ]
     },
     "execution_count": 12,
     "metadata": {},
     "output_type": "execute_result"
    }
   ],
   "source": [
    "train, test = train_test_split(data, test_size=0.25, random_state=13)\n",
    "train.head(2)"
   ]
  },
  {
   "cell_type": "code",
   "execution_count": 13,
   "metadata": {
    "colab": {
     "base_uri": "https://localhost:8080/"
    },
    "executionInfo": {
     "elapsed": 39,
     "status": "ok",
     "timestamp": 1638807724014,
     "user": {
      "displayName": "Эмиль Фаттахов",
      "photoUrl": "https://lh3.googleusercontent.com/a/default-user=s64",
      "userId": "00972235813792243292"
     },
     "user_tz": -300
    },
    "id": "LcBdfDIwg1oa",
    "outputId": "f0bc89a0-5f48-4c52-8ca5-e5d97b13eeb3"
   },
   "outputs": [
    {
     "name": "stdout",
     "output_type": "stream",
     "text": [
      "<class 'pandas.core.frame.DataFrame'>\n",
      "Int64Index: 1127568 entries, 31723 to 1015882\n",
      "Data columns (total 15 columns):\n",
      " #   Column                                     Non-Null Count    Dtype  \n",
      "---  ------                                     --------------    -----  \n",
      " 0   region                                     1127568 non-null  int64  \n",
      " 1   city                                       1127568 non-null  int64  \n",
      " 2   category_name                              1127568 non-null  int64  \n",
      " 3   price                                      1127568 non-null  float64\n",
      " 4   item_seq_number                            1127568 non-null  int64  \n",
      " 5   user_type                                  1127568 non-null  int64  \n",
      " 6   image_top_1                                1127568 non-null  float64\n",
      " 7   deal_probability                           1127568 non-null  float64\n",
      " 8   day_of_month                               1127568 non-null  int64  \n",
      " 9   day_of_week                                1127568 non-null  int64  \n",
      " 10  region_deal_probability_avg                1127568 non-null  float64\n",
      " 11  category_name_deal_probability_avg         1127568 non-null  float64\n",
      " 12  city_deal_probability_avg                  1127568 non-null  float64\n",
      " 13  user_type_deal_probability_avg             1127568 non-null  float64\n",
      " 14  parent_category_name_deal_probability_avg  1127568 non-null  float64\n",
      "dtypes: float64(8), int64(7)\n",
      "memory usage: 137.6 MB\n"
     ]
    }
   ],
   "source": [
    "train.info()"
   ]
  },
  {
   "cell_type": "code",
   "execution_count": 14,
   "metadata": {
    "executionInfo": {
     "elapsed": 20,
     "status": "ok",
     "timestamp": 1638807724015,
     "user": {
      "displayName": "Эмиль Фаттахов",
      "photoUrl": "https://lh3.googleusercontent.com/a/default-user=s64",
      "userId": "00972235813792243292"
     },
     "user_tz": -300
    },
    "id": "BAEDRtOrg8OO"
   },
   "outputs": [],
   "source": [
    "class DFDataset(torch.utils.data.Dataset):\n",
    "    def __init__(self, df, normalize=False, fit_scaler=False):\n",
    "        self.df = df.copy()\n",
    "        self.normalize = normalize\n",
    "        self.scaler = MinMaxScaler()\n",
    "        self.fit_scaler = fit_scaler\n",
    "        self.sc_fl = 0\n",
    "\n",
    "    def __len__(self):\n",
    "        return len(self.df)\n",
    "\n",
    "    def __getitem__(self, idx):\n",
    "        label = self.df.iloc[idx, -1:]\n",
    "        if self.fit_scaler:\n",
    "            self.scaler.fit(df.iloc[:, :-1])\n",
    "            self.sc_fl = 1\n",
    "\n",
    "        if self.normalize and sc_fl:\n",
    "            df = scaler.transform(df)\n",
    "\n",
    "        tensor = torch.FloatTensor(self.df.iloc[idx, 1:-1].values)\n",
    "        label = torch.FloatTensor(label.values)\n",
    "\n",
    "        return tensor, label"
   ]
  },
  {
   "cell_type": "code",
   "execution_count": 15,
   "metadata": {
    "executionInfo": {
     "elapsed": 25,
     "status": "ok",
     "timestamp": 1638807724020,
     "user": {
      "displayName": "Эмиль Фаттахов",
      "photoUrl": "https://lh3.googleusercontent.com/a/default-user=s64",
      "userId": "00972235813792243292"
     },
     "user_tz": -300
    },
    "id": "tSPLc2ZWhA4F"
   },
   "outputs": [],
   "source": [
    "train_dataset = DFDataset(train)\n",
    "test_dataset = DFDataset(test)"
   ]
  },
  {
   "cell_type": "code",
   "execution_count": 16,
   "metadata": {
    "executionInfo": {
     "elapsed": 26,
     "status": "ok",
     "timestamp": 1638807724022,
     "user": {
      "displayName": "Эмиль Фаттахов",
      "photoUrl": "https://lh3.googleusercontent.com/a/default-user=s64",
      "userId": "00972235813792243292"
     },
     "user_tz": -300
    },
    "id": "GValu6k1hGSt"
   },
   "outputs": [],
   "source": [
    "train_loader = torch.utils.data.DataLoader(train_dataset,\n",
    "                                           batch_size=2048,\n",
    "                                           shuffle=True,\n",
    "                                           num_workers=4)\n",
    "\n",
    "test_loader = torch.utils.data.DataLoader(test_dataset,\n",
    "                                          batch_size=2048,\n",
    "                                          shuffle=True,\n",
    "                                          num_workers=4)"
   ]
  },
  {
   "cell_type": "code",
   "execution_count": 17,
   "metadata": {
    "executionInfo": {
     "elapsed": 27,
     "status": "ok",
     "timestamp": 1638807724023,
     "user": {
      "displayName": "Эмиль Фаттахов",
      "photoUrl": "https://lh3.googleusercontent.com/a/default-user=s64",
      "userId": "00972235813792243292"
     },
     "user_tz": -300
    },
    "id": "mfUs6WdBhJnm"
   },
   "outputs": [],
   "source": [
    "class FFNet(nn.Module):\n",
    "    def __init__(self, input_dim, hidden_dim):\n",
    "        super(FFNet, self).__init__()\n",
    "        self.bn1 = nn.BatchNorm1d(input_dim)\n",
    "        self.fc1 = nn.Linear(input_dim, 5*hidden_dim)\n",
    "        self.dp1 = nn.Dropout(0.40)\n",
    "\n",
    "        self.bn2 = nn.BatchNorm1d(5*hidden_dim)\n",
    "        self.fc2 = nn.Linear(5*hidden_dim, 2*hidden_dim)\n",
    "        self.dp2 = nn.Dropout(0.15)\n",
    "\n",
    "        self.bn4 = nn.BatchNorm1d(2*hidden_dim)\n",
    "        self.fc4 = nn.Linear(2*hidden_dim, 1)\n",
    "\n",
    "    def forward(self, x):\n",
    "        x = self.bn1(x)\n",
    "        x = self.fc1(x)\n",
    "        x = F.tanh(x)\n",
    "        x = self.dp1(x)\n",
    "\n",
    "        x = self.bn2(x)\n",
    "        x = self.fc2(x)\n",
    "        x = F.tanh(x)\n",
    "        x = self.dp2(x)\n",
    "\n",
    "        x = self.bn4(x)\n",
    "        x = self.fc4(x)\n",
    "        x = F.sigmoid(x)\n",
    "\n",
    "        return x"
   ]
  },
  {
   "cell_type": "code",
   "execution_count": 18,
   "metadata": {
    "executionInfo": {
     "elapsed": 27,
     "status": "ok",
     "timestamp": 1638807724024,
     "user": {
      "displayName": "Эмиль Фаттахов",
      "photoUrl": "https://lh3.googleusercontent.com/a/default-user=s64",
      "userId": "00972235813792243292"
     },
     "user_tz": -300
    },
    "id": "iFKnZxaGhPJg"
   },
   "outputs": [],
   "source": [
    "def rmsle_loss(y_pred, y_true):\n",
    "    loss = torch.sqrt(torch.mean((torch.log(y_pred+1)-torch.log(y_true+1))**2))\n",
    "    return loss"
   ]
  },
  {
   "cell_type": "code",
   "execution_count": 19,
   "metadata": {
    "executionInfo": {
     "elapsed": 28,
     "status": "ok",
     "timestamp": 1638807724025,
     "user": {
      "displayName": "Эмиль Фаттахов",
      "photoUrl": "https://lh3.googleusercontent.com/a/default-user=s64",
      "userId": "00972235813792243292"
     },
     "user_tz": -300
    },
    "id": "_lD5WCvehTGZ"
   },
   "outputs": [],
   "source": [
    "EPOCHES = 1\n",
    "LR = 0.001"
   ]
  },
  {
   "cell_type": "code",
   "execution_count": 20,
   "metadata": {
    "executionInfo": {
     "elapsed": 27,
     "status": "ok",
     "timestamp": 1638807724025,
     "user": {
      "displayName": "Эмиль Фаттахов",
      "photoUrl": "https://lh3.googleusercontent.com/a/default-user=s64",
      "userId": "00972235813792243292"
     },
     "user_tz": -300
    },
    "id": "_93BCzL5hVva"
   },
   "outputs": [],
   "source": [
    "def train_loop(tr_dataloader, ev_dataloader, model, optimizer, history):\n",
    "\n",
    "    size = len(tr_dataloader.dataset)\n",
    "    for batch, (X, y) in enumerate(tr_dataloader):\n",
    "        # Compute prediction and loss\n",
    "        pred = model(X.to(device))\n",
    "        loss = rmsle_loss(pred, y.to(device))\n",
    "\n",
    "        # Backpropagation\n",
    "        optimizer.zero_grad()\n",
    "        loss.backward()\n",
    "        optimizer.step()\n",
    "\n",
    "        if batch % 50 == 0:\n",
    "            current = batch * len(X)\n",
    "            history['train'].append(loss)\n",
    "            test_loss = eval_loop(ev_dataloader, model)\n",
    "            history['eval'].append(test_loss)\n",
    "            print(f\"loss: {loss:>7f}, Avg test loss: {test_loss:>8f}  [{current:>5d}/{size:>5d}]\")\n",
    "\n",
    "    return history\n",
    "\n",
    "\n",
    "def eval_loop(ev_dataloader, model):\n",
    "    \n",
    "    size = len(ev_dataloader.dataset)\n",
    "    num_batches = len(ev_dataloader)\n",
    "    test_loss = 0\n",
    "\n",
    "    with torch.no_grad():\n",
    "        for X, y in ev_dataloader:\n",
    "            pred = model(X.to(device))\n",
    "            test_loss += rmsle_loss(pred, y.to(device))\n",
    "\n",
    "    test_loss /= num_batches\n",
    "    \n",
    "    return test_loss"
   ]
  },
  {
   "cell_type": "markdown",
   "metadata": {
    "id": "MMuTErtJsIte"
   },
   "source": [
    "## SGD"
   ]
  },
  {
   "cell_type": "code",
   "execution_count": 21,
   "metadata": {
    "executionInfo": {
     "elapsed": 8702,
     "status": "ok",
     "timestamp": 1638807732700,
     "user": {
      "displayName": "Эмиль Фаттахов",
      "photoUrl": "https://lh3.googleusercontent.com/a/default-user=s64",
      "userId": "00972235813792243292"
     },
     "user_tz": -300
    },
    "id": "pxZ-Y1athe_l"
   },
   "outputs": [],
   "source": [
    "model = FFNet(13, 5).to(device)"
   ]
  },
  {
   "cell_type": "code",
   "execution_count": 22,
   "metadata": {
    "executionInfo": {
     "elapsed": 24,
     "status": "ok",
     "timestamp": 1638807732703,
     "user": {
      "displayName": "Эмиль Фаттахов",
      "photoUrl": "https://lh3.googleusercontent.com/a/default-user=s64",
      "userId": "00972235813792243292"
     },
     "user_tz": -300
    },
    "id": "AGDE7-NSiCHO"
   },
   "outputs": [],
   "source": [
    "optimizer = torch.optim.SGD(model.parameters(), lr=LR)"
   ]
  },
  {
   "cell_type": "code",
   "execution_count": 23,
   "metadata": {
    "colab": {
     "base_uri": "https://localhost:8080/",
     "height": 322,
     "referenced_widgets": [
      "2a8cf4fe46fc4d82a6200fe7e626abe8",
      "ef2901bd01614f0aacb31ec930953234",
      "033b4dfa8094467499652d0edca4a430",
      "5f31553d315b48f6a223f7410ebe5a99",
      "98a8a3ca6e3c440c992709b5419cbdbb",
      "d0ddc31521664dd48ab0065fa6ce31e9",
      "b5da16b8824f4925939a0c546f6debb8",
      "25b7549ee83e410bbe598802041a4f46",
      "1a1329f501a74397874fbac9f0e2d5f3",
      "0b8396db74944979badb5c9c18b50708",
      "a2b8edb439d940a58bf5673d10fdf6b0"
     ]
    },
    "executionInfo": {
     "elapsed": 2643339,
     "status": "ok",
     "timestamp": 1638810376020,
     "user": {
      "displayName": "Эмиль Фаттахов",
      "photoUrl": "https://lh3.googleusercontent.com/a/default-user=s64",
      "userId": "00972235813792243292"
     },
     "user_tz": -300
    },
    "id": "jb2Y-m7MiFNx",
    "outputId": "3a7ffc02-50c2-4011-8ac8-773cfe613a6b"
   },
   "outputs": [
    {
     "data": {
      "application/vnd.jupyter.widget-view+json": {
       "model_id": "2a8cf4fe46fc4d82a6200fe7e626abe8",
       "version_major": 2,
       "version_minor": 0
      },
      "text/plain": [
       "  0%|          | 0/1 [00:00<?, ?it/s]"
      ]
     },
     "metadata": {},
     "output_type": "display_data"
    },
    {
     "name": "stdout",
     "output_type": "stream",
     "text": [
      "Epoch 1\n",
      "-------------------------------\n",
      "loss: 0.316888, Avg test loss: 0.316757  [    0/1127568]\n",
      "loss: 0.315606, Avg test loss: 0.315383  [102400/1127568]\n",
      "loss: 0.313848, Avg test loss: 0.314023  [204800/1127568]\n",
      "loss: 0.310679, Avg test loss: 0.312584  [307200/1127568]\n",
      "loss: 0.312598, Avg test loss: 0.311210  [409600/1127568]\n",
      "loss: 0.310850, Avg test loss: 0.309807  [512000/1127568]\n",
      "loss: 0.308516, Avg test loss: 0.308387  [614400/1127568]\n",
      "loss: 0.306575, Avg test loss: 0.306951  [716800/1127568]\n",
      "loss: 0.303570, Avg test loss: 0.305586  [819200/1127568]\n",
      "loss: 0.304691, Avg test loss: 0.304093  [921600/1127568]\n",
      "loss: 0.303313, Avg test loss: 0.302717  [1024000/1127568]\n",
      "loss: 0.302389, Avg test loss: 0.301261  [642400/1127568]\n",
      "Done!\n"
     ]
    }
   ],
   "source": [
    "history_1 = {'train': [], 'eval': []}\n",
    "\n",
    "for t in tqdm_notebook(range(EPOCHES)):\n",
    "    print(f\"Epoch {t+1}\\n-------------------------------\")\n",
    "    history_1 = train_loop(train_loader,\n",
    "                           test_loader,\n",
    "                           model,\n",
    "                           optimizer,\n",
    "                           history_1\n",
    "                          )\n",
    "print(\"Done!\")"
   ]
  },
  {
   "cell_type": "markdown",
   "metadata": {
    "id": "qnVSjDUWsO-K"
   },
   "source": [
    "## ADAM"
   ]
  },
  {
   "cell_type": "code",
   "execution_count": 24,
   "metadata": {
    "executionInfo": {
     "elapsed": 507,
     "status": "ok",
     "timestamp": 1638810386184,
     "user": {
      "displayName": "Эмиль Фаттахов",
      "photoUrl": "https://lh3.googleusercontent.com/a/default-user=s64",
      "userId": "00972235813792243292"
     },
     "user_tz": -300
    },
    "id": "PLRFNBZpsQkZ"
   },
   "outputs": [],
   "source": [
    "model = FFNet(13, 5).to(device)"
   ]
  },
  {
   "cell_type": "code",
   "execution_count": 25,
   "metadata": {
    "executionInfo": {
     "elapsed": 452,
     "status": "ok",
     "timestamp": 1638810388422,
     "user": {
      "displayName": "Эмиль Фаттахов",
      "photoUrl": "https://lh3.googleusercontent.com/a/default-user=s64",
      "userId": "00972235813792243292"
     },
     "user_tz": -300
    },
    "id": "A3jqxMpHsTuI"
   },
   "outputs": [],
   "source": [
    "optimizer = torch.optim.Adam(model.parameters(), lr=LR)"
   ]
  },
  {
   "cell_type": "code",
   "execution_count": 27,
   "metadata": {
    "colab": {
     "base_uri": "https://localhost:8080/",
     "height": 322,
     "referenced_widgets": [
      "aea34a79119e44ca83a874501f01d420",
      "f03b7e449a8f4a5a8504513057824757",
      "0a0c9478fa9a4bf0899989fdc3341b1c",
      "bcb686a522b44836b2d0dd401d71c770",
      "8ecfe810ffb6477bae3eab3e4f4f3f81",
      "7fc785f1e0774283972d8c4c010d3650",
      "34af819d6b1b4def970492b04775af1a",
      "99446b6fddcc44048d31fc4fcfd637c4",
      "853a4e1a63684a00ada356cd21978028",
      "ccc2a646c20243c48e93cbee8f597b98",
      "78958092265d499e81b361537f999b78"
     ]
    },
    "executionInfo": {
     "elapsed": 2648944,
     "status": "ok",
     "timestamp": 1638813046408,
     "user": {
      "displayName": "Эмиль Фаттахов",
      "photoUrl": "https://lh3.googleusercontent.com/a/default-user=s64",
      "userId": "00972235813792243292"
     },
     "user_tz": -300
    },
    "id": "a6AGzm5Usavb",
    "outputId": "886fc31d-0fe7-428c-80b4-aee6417b3dbc"
   },
   "outputs": [
    {
     "data": {
      "application/vnd.jupyter.widget-view+json": {
       "model_id": "aea34a79119e44ca83a874501f01d420",
       "version_major": 2,
       "version_minor": 0
      },
      "text/plain": [
       "  0%|          | 0/1 [00:00<?, ?it/s]"
      ]
     },
     "metadata": {},
     "output_type": "display_data"
    },
    {
     "name": "stdout",
     "output_type": "stream",
     "text": [
      "Epoch 1\n",
      "-------------------------------\n",
      "loss: 0.294905, Avg test loss: 0.295784  [    0/1127568]\n",
      "loss: 0.267115, Avg test loss: 0.266969  [102400/1127568]\n",
      "loss: 0.235162, Avg test loss: 0.233326  [204800/1127568]\n",
      "loss: 0.181692, Avg test loss: 0.181391  [307200/1127568]\n",
      "loss: 0.118856, Avg test loss: 0.119320  [409600/1127568]\n",
      "loss: 0.070851, Avg test loss: 0.069099  [512000/1127568]\n",
      "loss: 0.048351, Avg test loss: 0.048982  [614400/1127568]\n",
      "loss: 0.044060, Avg test loss: 0.043328  [716800/1127568]\n",
      "loss: 0.039648, Avg test loss: 0.039884  [819200/1127568]\n",
      "loss: 0.036995, Avg test loss: 0.037387  [921600/1127568]\n",
      "loss: 0.035028, Avg test loss: 0.035335  [1024000/1127568]\n",
      "loss: 0.032600, Avg test loss: 0.033932  [642400/1127568]\n",
      "Done!\n"
     ]
    }
   ],
   "source": [
    "history_2 = {'train': [], 'eval': []}\n",
    "\n",
    "for t in tqdm_notebook(range(EPOCHES)):\n",
    "    print(f\"Epoch {t+1}\\n-------------------------------\")\n",
    "    history_2 = train_loop(train_loader,\n",
    "                           test_loader,\n",
    "                           model,\n",
    "                           optimizer,\n",
    "                           history_2\n",
    "                          )\n",
    "print(\"Done!\")"
   ]
  },
  {
   "cell_type": "markdown",
   "metadata": {
    "id": "HYixns_YsoQp"
   },
   "source": [
    "## RMSProp"
   ]
  },
  {
   "cell_type": "code",
   "execution_count": 28,
   "metadata": {
    "executionInfo": {
     "elapsed": 604,
     "status": "ok",
     "timestamp": 1638813069355,
     "user": {
      "displayName": "Эмиль Фаттахов",
      "photoUrl": "https://lh3.googleusercontent.com/a/default-user=s64",
      "userId": "00972235813792243292"
     },
     "user_tz": -300
    },
    "id": "gVuJaHMZsiEs"
   },
   "outputs": [],
   "source": [
    "model = FFNet(13, 5).to(device)"
   ]
  },
  {
   "cell_type": "code",
   "execution_count": 29,
   "metadata": {
    "executionInfo": {
     "elapsed": 556,
     "status": "ok",
     "timestamp": 1638813072634,
     "user": {
      "displayName": "Эмиль Фаттахов",
      "photoUrl": "https://lh3.googleusercontent.com/a/default-user=s64",
      "userId": "00972235813792243292"
     },
     "user_tz": -300
    },
    "id": "Zd_nR3NRsw6i"
   },
   "outputs": [],
   "source": [
    "optimizer = torch.optim.RMSprop(model.parameters(), lr=LR)"
   ]
  },
  {
   "cell_type": "code",
   "execution_count": 30,
   "metadata": {
    "colab": {
     "base_uri": "https://localhost:8080/",
     "height": 322,
     "referenced_widgets": [
      "dcd6ee469994430f9176b65f77765e21",
      "5f9964e5320c402f88900926813a6325",
      "e470bc47c812452fb50b4ed572e82766",
      "f0fb2abb27b144618b9b7be807729b04",
      "5ef4090fc8c7438a9076b6cf2a1c2ddf",
      "9e48febd054a413682b98507168bab87",
      "d56917882d8c40368b20959c945d1da9",
      "f5a6d55ba2184e8ba14d0b84ac34cf1d",
      "b4ec727ce340449d98790dba21157438",
      "ffad29e0a7e3465db206f35fe0edb42b",
      "3f605dfe4d1542c5ae207d6f3bd7de81"
     ]
    },
    "executionInfo": {
     "elapsed": 2643108,
     "status": "ok",
     "timestamp": 1638815722464,
     "user": {
      "displayName": "Эмиль Фаттахов",
      "photoUrl": "https://lh3.googleusercontent.com/a/default-user=s64",
      "userId": "00972235813792243292"
     },
     "user_tz": -300
    },
    "id": "KIR_iWwTs1Go",
    "outputId": "f5e51065-c6f2-44da-9618-aeb3485772b8"
   },
   "outputs": [
    {
     "data": {
      "application/vnd.jupyter.widget-view+json": {
       "model_id": "dcd6ee469994430f9176b65f77765e21",
       "version_major": 2,
       "version_minor": 0
      },
      "text/plain": [
       "  0%|          | 0/1 [00:00<?, ?it/s]"
      ]
     },
     "metadata": {},
     "output_type": "display_data"
    },
    {
     "name": "stdout",
     "output_type": "stream",
     "text": [
      "Epoch 1\n",
      "-------------------------------\n",
      "loss: 0.258845, Avg test loss: 0.248078  [    0/1127568]\n",
      "loss: 0.164963, Avg test loss: 0.165204  [102400/1127568]\n",
      "loss: 0.101467, Avg test loss: 0.100570  [204800/1127568]\n",
      "loss: 0.062035, Avg test loss: 0.061349  [307200/1127568]\n",
      "loss: 0.047176, Avg test loss: 0.047733  [409600/1127568]\n",
      "loss: 0.043658, Avg test loss: 0.043589  [512000/1127568]\n",
      "loss: 0.041090, Avg test loss: 0.040651  [614400/1127568]\n",
      "loss: 0.039490, Avg test loss: 0.038427  [716800/1127568]\n",
      "loss: 0.035163, Avg test loss: 0.036520  [819200/1127568]\n",
      "loss: 0.034528, Avg test loss: 0.034902  [921600/1127568]\n",
      "loss: 0.032864, Avg test loss: 0.033362  [1024000/1127568]\n",
      "loss: 0.033125, Avg test loss: 0.032229  [642400/1127568]\n",
      "Done!\n"
     ]
    }
   ],
   "source": [
    "history_3 = {'train': [], 'eval': []}\n",
    "\n",
    "for t in tqdm_notebook(range(EPOCHES)):\n",
    "    print(f\"Epoch {t+1}\\n-------------------------------\")\n",
    "    history_3 = train_loop(train_loader,\n",
    "                           test_loader,\n",
    "                           model,\n",
    "                           optimizer,\n",
    "                           history_3\n",
    "                          )\n",
    "print(\"Done!\")"
   ]
  },
  {
   "cell_type": "markdown",
   "metadata": {
    "id": "cxKL2NGj-Bb9"
   },
   "source": [
    "## SGD + Momentum"
   ]
  },
  {
   "cell_type": "code",
   "execution_count": 31,
   "metadata": {
    "executionInfo": {
     "elapsed": 593,
     "status": "ok",
     "timestamp": 1638815729075,
     "user": {
      "displayName": "Эмиль Фаттахов",
      "photoUrl": "https://lh3.googleusercontent.com/a/default-user=s64",
      "userId": "00972235813792243292"
     },
     "user_tz": -300
    },
    "id": "QJZSsiGy-F_0"
   },
   "outputs": [],
   "source": [
    "model = FFNet(13, 5).to(device)"
   ]
  },
  {
   "cell_type": "code",
   "execution_count": 32,
   "metadata": {
    "executionInfo": {
     "elapsed": 2,
     "status": "ok",
     "timestamp": 1638815730523,
     "user": {
      "displayName": "Эмиль Фаттахов",
      "photoUrl": "https://lh3.googleusercontent.com/a/default-user=s64",
      "userId": "00972235813792243292"
     },
     "user_tz": -300
    },
    "id": "dMJr_m1u-Isl"
   },
   "outputs": [],
   "source": [
    "optimizer = torch.optim.SGD(model.parameters(), lr=LR, momentum=0.8)"
   ]
  },
  {
   "cell_type": "code",
   "execution_count": 33,
   "metadata": {
    "colab": {
     "base_uri": "https://localhost:8080/",
     "height": 322,
     "referenced_widgets": [
      "29799171d0c74f63b8905db8b12cee5d",
      "200f0f72c6f94bbdae04dde83831fb74",
      "81b26ecc3470436aa49885320e53602f",
      "611c43619ff142bc8f6da0f42a7dee32",
      "5600979bb8ee4f34a77fa84e1e4b8e7e",
      "b396eef963ac48f3aeddc47115cabd83",
      "833c69ba939d4360b0dcd550695c1482",
      "6dd4f7feb998411ea5d3f0a32ea8fbaf",
      "d1de058fd17a4de6a6d12340a63271db",
      "b8a69a5a11054210930cc193b85f3f9b",
      "e8fb59c31cf34a3d96d5290a79f7a529"
     ]
    },
    "executionInfo": {
     "elapsed": 2668622,
     "status": "ok",
     "timestamp": 1638818400592,
     "user": {
      "displayName": "Эмиль Фаттахов",
      "photoUrl": "https://lh3.googleusercontent.com/a/default-user=s64",
      "userId": "00972235813792243292"
     },
     "user_tz": -300
    },
    "id": "Pbwp5GW1-gvl",
    "outputId": "9125ac57-0c02-4b9c-efed-d29548c90da5"
   },
   "outputs": [
    {
     "data": {
      "application/vnd.jupyter.widget-view+json": {
       "model_id": "29799171d0c74f63b8905db8b12cee5d",
       "version_major": 2,
       "version_minor": 0
      },
      "text/plain": [
       "  0%|          | 0/1 [00:00<?, ?it/s]"
      ]
     },
     "metadata": {},
     "output_type": "display_data"
    },
    {
     "name": "stdout",
     "output_type": "stream",
     "text": [
      "Epoch 1\n",
      "-------------------------------\n",
      "loss: 0.325045, Avg test loss: 0.323981  [    0/1127568]\n",
      "loss: 0.316220, Avg test loss: 0.316779  [102400/1127568]\n",
      "loss: 0.307952, Avg test loss: 0.308927  [204800/1127568]\n",
      "loss: 0.299363, Avg test loss: 0.300936  [307200/1127568]\n",
      "loss: 0.294981, Avg test loss: 0.292719  [409600/1127568]\n",
      "loss: 0.284595, Avg test loss: 0.284382  [512000/1127568]\n",
      "loss: 0.274855, Avg test loss: 0.276000  [614400/1127568]\n",
      "loss: 0.268279, Avg test loss: 0.267472  [716800/1127568]\n",
      "loss: 0.261819, Avg test loss: 0.258943  [819200/1127568]\n",
      "loss: 0.249897, Avg test loss: 0.250346  [921600/1127568]\n",
      "loss: 0.242463, Avg test loss: 0.241831  [1024000/1127568]\n",
      "loss: 0.235039, Avg test loss: 0.233165  [642400/1127568]\n",
      "Done!\n"
     ]
    }
   ],
   "source": [
    "history_4 = {'train': [], 'eval': []}\n",
    "\n",
    "for t in tqdm_notebook(range(EPOCHES)):\n",
    "    print(f\"Epoch {t+1}\\n-------------------------------\")\n",
    "    history_4 = train_loop(train_loader,\n",
    "                           test_loader,\n",
    "                           model,\n",
    "                           optimizer,\n",
    "                           history_4\n",
    "                          )\n",
    "print(\"Done!\")"
   ]
  },
  {
   "cell_type": "markdown",
   "metadata": {
    "id": "KIUB3qHvNbFL"
   },
   "source": [
    "Итог: при одинаковой скорости обучения, скорость схождения быстрее всего RMSProp, на втором месте - Adam. Худший результат у SGD. Сохранение градиентов в SGD + Momentum позволяет быстрее приийти к минимуму функции, нежели простой SGD."
   ]
  }
 ],
 "metadata": {
  "accelerator": "GPU",
  "colab": {
   "authorship_tag": "ABX9TyO8m1VRUhL6rFpsjeeIDtHl",
   "collapsed_sections": [],
   "name": "Homework_03.ipynb",
   "provenance": []
  },
  "kernelspec": {
   "display_name": "Python 3",
   "language": "python",
   "name": "python3"
  },
  "language_info": {
   "codemirror_mode": {
    "name": "ipython",
    "version": 3
   },
   "file_extension": ".py",
   "mimetype": "text/x-python",
   "name": "python",
   "nbconvert_exporter": "python",
   "pygments_lexer": "ipython3",
   "version": "3.8.8"
  },
  "widgets": {
   "application/vnd.jupyter.widget-state+json": {
    "033b4dfa8094467499652d0edca4a430": {
     "model_module": "@jupyter-widgets/controls",
     "model_module_version": "1.5.0",
     "model_name": "HTMLModel",
     "state": {
      "_dom_classes": [],
      "_model_module": "@jupyter-widgets/controls",
      "_model_module_version": "1.5.0",
      "_model_name": "HTMLModel",
      "_view_count": null,
      "_view_module": "@jupyter-widgets/controls",
      "_view_module_version": "1.5.0",
      "_view_name": "HTMLView",
      "description": "",
      "description_tooltip": null,
      "layout": "IPY_MODEL_b5da16b8824f4925939a0c546f6debb8",
      "placeholder": "​",
      "style": "IPY_MODEL_d0ddc31521664dd48ab0065fa6ce31e9",
      "value": "100%"
     }
    },
    "0657aaadb54f477bbeb5d859743d5de2": {
     "model_module": "@jupyter-widgets/controls",
     "model_module_version": "1.5.0",
     "model_name": "HTMLModel",
     "state": {
      "_dom_classes": [],
      "_model_module": "@jupyter-widgets/controls",
      "_model_module_version": "1.5.0",
      "_model_name": "HTMLModel",
      "_view_count": null,
      "_view_module": "@jupyter-widgets/controls",
      "_view_module_version": "1.5.0",
      "_view_name": "HTMLView",
      "description": "",
      "description_tooltip": null,
      "layout": "IPY_MODEL_e95a1ed58d874183b28784e8ee6a0fc7",
      "placeholder": "​",
      "style": "IPY_MODEL_cebe08646cee4216a140f8c07c65d044",
      "value": "100%"
     }
    },
    "0a0c9478fa9a4bf0899989fdc3341b1c": {
     "model_module": "@jupyter-widgets/controls",
     "model_module_version": "1.5.0",
     "model_name": "HTMLModel",
     "state": {
      "_dom_classes": [],
      "_model_module": "@jupyter-widgets/controls",
      "_model_module_version": "1.5.0",
      "_model_name": "HTMLModel",
      "_view_count": null,
      "_view_module": "@jupyter-widgets/controls",
      "_view_module_version": "1.5.0",
      "_view_name": "HTMLView",
      "description": "",
      "description_tooltip": null,
      "layout": "IPY_MODEL_34af819d6b1b4def970492b04775af1a",
      "placeholder": "​",
      "style": "IPY_MODEL_7fc785f1e0774283972d8c4c010d3650",
      "value": "100%"
     }
    },
    "0b8396db74944979badb5c9c18b50708": {
     "model_module": "@jupyter-widgets/controls",
     "model_module_version": "1.5.0",
     "model_name": "DescriptionStyleModel",
     "state": {
      "_model_module": "@jupyter-widgets/controls",
      "_model_module_version": "1.5.0",
      "_model_name": "DescriptionStyleModel",
      "_view_count": null,
      "_view_module": "@jupyter-widgets/base",
      "_view_module_version": "1.2.0",
      "_view_name": "StyleView",
      "description_width": ""
     }
    },
    "1a1329f501a74397874fbac9f0e2d5f3": {
     "model_module": "@jupyter-widgets/base",
     "model_module_version": "1.2.0",
     "model_name": "LayoutModel",
     "state": {
      "_model_module": "@jupyter-widgets/base",
      "_model_module_version": "1.2.0",
      "_model_name": "LayoutModel",
      "_view_count": null,
      "_view_module": "@jupyter-widgets/base",
      "_view_module_version": "1.2.0",
      "_view_name": "LayoutView",
      "align_content": null,
      "align_items": null,
      "align_self": null,
      "border": null,
      "bottom": null,
      "display": null,
      "flex": null,
      "flex_flow": null,
      "grid_area": null,
      "grid_auto_columns": null,
      "grid_auto_flow": null,
      "grid_auto_rows": null,
      "grid_column": null,
      "grid_gap": null,
      "grid_row": null,
      "grid_template_areas": null,
      "grid_template_columns": null,
      "grid_template_rows": null,
      "height": null,
      "justify_content": null,
      "justify_items": null,
      "left": null,
      "margin": null,
      "max_height": null,
      "max_width": null,
      "min_height": null,
      "min_width": null,
      "object_fit": null,
      "object_position": null,
      "order": null,
      "overflow": null,
      "overflow_x": null,
      "overflow_y": null,
      "padding": null,
      "right": null,
      "top": null,
      "visibility": null,
      "width": null
     }
    },
    "200f0f72c6f94bbdae04dde83831fb74": {
     "model_module": "@jupyter-widgets/base",
     "model_module_version": "1.2.0",
     "model_name": "LayoutModel",
     "state": {
      "_model_module": "@jupyter-widgets/base",
      "_model_module_version": "1.2.0",
      "_model_name": "LayoutModel",
      "_view_count": null,
      "_view_module": "@jupyter-widgets/base",
      "_view_module_version": "1.2.0",
      "_view_name": "LayoutView",
      "align_content": null,
      "align_items": null,
      "align_self": null,
      "border": null,
      "bottom": null,
      "display": null,
      "flex": null,
      "flex_flow": null,
      "grid_area": null,
      "grid_auto_columns": null,
      "grid_auto_flow": null,
      "grid_auto_rows": null,
      "grid_column": null,
      "grid_gap": null,
      "grid_row": null,
      "grid_template_areas": null,
      "grid_template_columns": null,
      "grid_template_rows": null,
      "height": null,
      "justify_content": null,
      "justify_items": null,
      "left": null,
      "margin": null,
      "max_height": null,
      "max_width": null,
      "min_height": null,
      "min_width": null,
      "object_fit": null,
      "object_position": null,
      "order": null,
      "overflow": null,
      "overflow_x": null,
      "overflow_y": null,
      "padding": null,
      "right": null,
      "top": null,
      "visibility": null,
      "width": null
     }
    },
    "203a1569a5584c6c8150e4294c7fbefb": {
     "model_module": "@jupyter-widgets/base",
     "model_module_version": "1.2.0",
     "model_name": "LayoutModel",
     "state": {
      "_model_module": "@jupyter-widgets/base",
      "_model_module_version": "1.2.0",
      "_model_name": "LayoutModel",
      "_view_count": null,
      "_view_module": "@jupyter-widgets/base",
      "_view_module_version": "1.2.0",
      "_view_name": "LayoutView",
      "align_content": null,
      "align_items": null,
      "align_self": null,
      "border": null,
      "bottom": null,
      "display": null,
      "flex": null,
      "flex_flow": null,
      "grid_area": null,
      "grid_auto_columns": null,
      "grid_auto_flow": null,
      "grid_auto_rows": null,
      "grid_column": null,
      "grid_gap": null,
      "grid_row": null,
      "grid_template_areas": null,
      "grid_template_columns": null,
      "grid_template_rows": null,
      "height": null,
      "justify_content": null,
      "justify_items": null,
      "left": null,
      "margin": null,
      "max_height": null,
      "max_width": null,
      "min_height": null,
      "min_width": null,
      "object_fit": null,
      "object_position": null,
      "order": null,
      "overflow": null,
      "overflow_x": null,
      "overflow_y": null,
      "padding": null,
      "right": null,
      "top": null,
      "visibility": null,
      "width": null
     }
    },
    "25b7549ee83e410bbe598802041a4f46": {
     "model_module": "@jupyter-widgets/controls",
     "model_module_version": "1.5.0",
     "model_name": "ProgressStyleModel",
     "state": {
      "_model_module": "@jupyter-widgets/controls",
      "_model_module_version": "1.5.0",
      "_model_name": "ProgressStyleModel",
      "_view_count": null,
      "_view_module": "@jupyter-widgets/base",
      "_view_module_version": "1.2.0",
      "_view_name": "StyleView",
      "bar_color": null,
      "description_width": ""
     }
    },
    "29799171d0c74f63b8905db8b12cee5d": {
     "model_module": "@jupyter-widgets/controls",
     "model_module_version": "1.5.0",
     "model_name": "HBoxModel",
     "state": {
      "_dom_classes": [],
      "_model_module": "@jupyter-widgets/controls",
      "_model_module_version": "1.5.0",
      "_model_name": "HBoxModel",
      "_view_count": null,
      "_view_module": "@jupyter-widgets/controls",
      "_view_module_version": "1.5.0",
      "_view_name": "HBoxView",
      "box_style": "",
      "children": [
       "IPY_MODEL_81b26ecc3470436aa49885320e53602f",
       "IPY_MODEL_611c43619ff142bc8f6da0f42a7dee32",
       "IPY_MODEL_5600979bb8ee4f34a77fa84e1e4b8e7e"
      ],
      "layout": "IPY_MODEL_200f0f72c6f94bbdae04dde83831fb74"
     }
    },
    "2a8cf4fe46fc4d82a6200fe7e626abe8": {
     "model_module": "@jupyter-widgets/controls",
     "model_module_version": "1.5.0",
     "model_name": "HBoxModel",
     "state": {
      "_dom_classes": [],
      "_model_module": "@jupyter-widgets/controls",
      "_model_module_version": "1.5.0",
      "_model_name": "HBoxModel",
      "_view_count": null,
      "_view_module": "@jupyter-widgets/controls",
      "_view_module_version": "1.5.0",
      "_view_name": "HBoxView",
      "box_style": "",
      "children": [
       "IPY_MODEL_033b4dfa8094467499652d0edca4a430",
       "IPY_MODEL_5f31553d315b48f6a223f7410ebe5a99",
       "IPY_MODEL_98a8a3ca6e3c440c992709b5419cbdbb"
      ],
      "layout": "IPY_MODEL_ef2901bd01614f0aacb31ec930953234"
     }
    },
    "34af819d6b1b4def970492b04775af1a": {
     "model_module": "@jupyter-widgets/base",
     "model_module_version": "1.2.0",
     "model_name": "LayoutModel",
     "state": {
      "_model_module": "@jupyter-widgets/base",
      "_model_module_version": "1.2.0",
      "_model_name": "LayoutModel",
      "_view_count": null,
      "_view_module": "@jupyter-widgets/base",
      "_view_module_version": "1.2.0",
      "_view_name": "LayoutView",
      "align_content": null,
      "align_items": null,
      "align_self": null,
      "border": null,
      "bottom": null,
      "display": null,
      "flex": null,
      "flex_flow": null,
      "grid_area": null,
      "grid_auto_columns": null,
      "grid_auto_flow": null,
      "grid_auto_rows": null,
      "grid_column": null,
      "grid_gap": null,
      "grid_row": null,
      "grid_template_areas": null,
      "grid_template_columns": null,
      "grid_template_rows": null,
      "height": null,
      "justify_content": null,
      "justify_items": null,
      "left": null,
      "margin": null,
      "max_height": null,
      "max_width": null,
      "min_height": null,
      "min_width": null,
      "object_fit": null,
      "object_position": null,
      "order": null,
      "overflow": null,
      "overflow_x": null,
      "overflow_y": null,
      "padding": null,
      "right": null,
      "top": null,
      "visibility": null,
      "width": null
     }
    },
    "3f605dfe4d1542c5ae207d6f3bd7de81": {
     "model_module": "@jupyter-widgets/base",
     "model_module_version": "1.2.0",
     "model_name": "LayoutModel",
     "state": {
      "_model_module": "@jupyter-widgets/base",
      "_model_module_version": "1.2.0",
      "_model_name": "LayoutModel",
      "_view_count": null,
      "_view_module": "@jupyter-widgets/base",
      "_view_module_version": "1.2.0",
      "_view_name": "LayoutView",
      "align_content": null,
      "align_items": null,
      "align_self": null,
      "border": null,
      "bottom": null,
      "display": null,
      "flex": null,
      "flex_flow": null,
      "grid_area": null,
      "grid_auto_columns": null,
      "grid_auto_flow": null,
      "grid_auto_rows": null,
      "grid_column": null,
      "grid_gap": null,
      "grid_row": null,
      "grid_template_areas": null,
      "grid_template_columns": null,
      "grid_template_rows": null,
      "height": null,
      "justify_content": null,
      "justify_items": null,
      "left": null,
      "margin": null,
      "max_height": null,
      "max_width": null,
      "min_height": null,
      "min_width": null,
      "object_fit": null,
      "object_position": null,
      "order": null,
      "overflow": null,
      "overflow_x": null,
      "overflow_y": null,
      "padding": null,
      "right": null,
      "top": null,
      "visibility": null,
      "width": null
     }
    },
    "47528fc6dd1345239d6f77622a4243a2": {
     "model_module": "@jupyter-widgets/base",
     "model_module_version": "1.2.0",
     "model_name": "LayoutModel",
     "state": {
      "_model_module": "@jupyter-widgets/base",
      "_model_module_version": "1.2.0",
      "_model_name": "LayoutModel",
      "_view_count": null,
      "_view_module": "@jupyter-widgets/base",
      "_view_module_version": "1.2.0",
      "_view_name": "LayoutView",
      "align_content": null,
      "align_items": null,
      "align_self": null,
      "border": null,
      "bottom": null,
      "display": null,
      "flex": null,
      "flex_flow": null,
      "grid_area": null,
      "grid_auto_columns": null,
      "grid_auto_flow": null,
      "grid_auto_rows": null,
      "grid_column": null,
      "grid_gap": null,
      "grid_row": null,
      "grid_template_areas": null,
      "grid_template_columns": null,
      "grid_template_rows": null,
      "height": null,
      "justify_content": null,
      "justify_items": null,
      "left": null,
      "margin": null,
      "max_height": null,
      "max_width": null,
      "min_height": null,
      "min_width": null,
      "object_fit": null,
      "object_position": null,
      "order": null,
      "overflow": null,
      "overflow_x": null,
      "overflow_y": null,
      "padding": null,
      "right": null,
      "top": null,
      "visibility": null,
      "width": null
     }
    },
    "5600979bb8ee4f34a77fa84e1e4b8e7e": {
     "model_module": "@jupyter-widgets/controls",
     "model_module_version": "1.5.0",
     "model_name": "HTMLModel",
     "state": {
      "_dom_classes": [],
      "_model_module": "@jupyter-widgets/controls",
      "_model_module_version": "1.5.0",
      "_model_name": "HTMLModel",
      "_view_count": null,
      "_view_module": "@jupyter-widgets/controls",
      "_view_module_version": "1.5.0",
      "_view_name": "HTMLView",
      "description": "",
      "description_tooltip": null,
      "layout": "IPY_MODEL_e8fb59c31cf34a3d96d5290a79f7a529",
      "placeholder": "​",
      "style": "IPY_MODEL_b8a69a5a11054210930cc193b85f3f9b",
      "value": " 1/1 [44:28&lt;00:00, 2668.20s/it]"
     }
    },
    "5d4b4af920a34ff9bb5a7e5771c25b89": {
     "model_module": "@jupyter-widgets/base",
     "model_module_version": "1.2.0",
     "model_name": "LayoutModel",
     "state": {
      "_model_module": "@jupyter-widgets/base",
      "_model_module_version": "1.2.0",
      "_model_name": "LayoutModel",
      "_view_count": null,
      "_view_module": "@jupyter-widgets/base",
      "_view_module_version": "1.2.0",
      "_view_name": "LayoutView",
      "align_content": null,
      "align_items": null,
      "align_self": null,
      "border": null,
      "bottom": null,
      "display": null,
      "flex": null,
      "flex_flow": null,
      "grid_area": null,
      "grid_auto_columns": null,
      "grid_auto_flow": null,
      "grid_auto_rows": null,
      "grid_column": null,
      "grid_gap": null,
      "grid_row": null,
      "grid_template_areas": null,
      "grid_template_columns": null,
      "grid_template_rows": null,
      "height": null,
      "justify_content": null,
      "justify_items": null,
      "left": null,
      "margin": null,
      "max_height": null,
      "max_width": null,
      "min_height": null,
      "min_width": null,
      "object_fit": null,
      "object_position": null,
      "order": null,
      "overflow": null,
      "overflow_x": null,
      "overflow_y": null,
      "padding": null,
      "right": null,
      "top": null,
      "visibility": null,
      "width": null
     }
    },
    "5ef4090fc8c7438a9076b6cf2a1c2ddf": {
     "model_module": "@jupyter-widgets/controls",
     "model_module_version": "1.5.0",
     "model_name": "HTMLModel",
     "state": {
      "_dom_classes": [],
      "_model_module": "@jupyter-widgets/controls",
      "_model_module_version": "1.5.0",
      "_model_name": "HTMLModel",
      "_view_count": null,
      "_view_module": "@jupyter-widgets/controls",
      "_view_module_version": "1.5.0",
      "_view_name": "HTMLView",
      "description": "",
      "description_tooltip": null,
      "layout": "IPY_MODEL_3f605dfe4d1542c5ae207d6f3bd7de81",
      "placeholder": "​",
      "style": "IPY_MODEL_ffad29e0a7e3465db206f35fe0edb42b",
      "value": " 1/1 [44:02&lt;00:00, 2642.60s/it]"
     }
    },
    "5f31553d315b48f6a223f7410ebe5a99": {
     "model_module": "@jupyter-widgets/controls",
     "model_module_version": "1.5.0",
     "model_name": "FloatProgressModel",
     "state": {
      "_dom_classes": [],
      "_model_module": "@jupyter-widgets/controls",
      "_model_module_version": "1.5.0",
      "_model_name": "FloatProgressModel",
      "_view_count": null,
      "_view_module": "@jupyter-widgets/controls",
      "_view_module_version": "1.5.0",
      "_view_name": "ProgressView",
      "bar_style": "success",
      "description": "",
      "description_tooltip": null,
      "layout": "IPY_MODEL_1a1329f501a74397874fbac9f0e2d5f3",
      "max": 1,
      "min": 0,
      "orientation": "horizontal",
      "style": "IPY_MODEL_25b7549ee83e410bbe598802041a4f46",
      "value": 1
     }
    },
    "5f9964e5320c402f88900926813a6325": {
     "model_module": "@jupyter-widgets/base",
     "model_module_version": "1.2.0",
     "model_name": "LayoutModel",
     "state": {
      "_model_module": "@jupyter-widgets/base",
      "_model_module_version": "1.2.0",
      "_model_name": "LayoutModel",
      "_view_count": null,
      "_view_module": "@jupyter-widgets/base",
      "_view_module_version": "1.2.0",
      "_view_name": "LayoutView",
      "align_content": null,
      "align_items": null,
      "align_self": null,
      "border": null,
      "bottom": null,
      "display": null,
      "flex": null,
      "flex_flow": null,
      "grid_area": null,
      "grid_auto_columns": null,
      "grid_auto_flow": null,
      "grid_auto_rows": null,
      "grid_column": null,
      "grid_gap": null,
      "grid_row": null,
      "grid_template_areas": null,
      "grid_template_columns": null,
      "grid_template_rows": null,
      "height": null,
      "justify_content": null,
      "justify_items": null,
      "left": null,
      "margin": null,
      "max_height": null,
      "max_width": null,
      "min_height": null,
      "min_width": null,
      "object_fit": null,
      "object_position": null,
      "order": null,
      "overflow": null,
      "overflow_x": null,
      "overflow_y": null,
      "padding": null,
      "right": null,
      "top": null,
      "visibility": null,
      "width": null
     }
    },
    "611c43619ff142bc8f6da0f42a7dee32": {
     "model_module": "@jupyter-widgets/controls",
     "model_module_version": "1.5.0",
     "model_name": "FloatProgressModel",
     "state": {
      "_dom_classes": [],
      "_model_module": "@jupyter-widgets/controls",
      "_model_module_version": "1.5.0",
      "_model_name": "FloatProgressModel",
      "_view_count": null,
      "_view_module": "@jupyter-widgets/controls",
      "_view_module_version": "1.5.0",
      "_view_name": "ProgressView",
      "bar_style": "success",
      "description": "",
      "description_tooltip": null,
      "layout": "IPY_MODEL_d1de058fd17a4de6a6d12340a63271db",
      "max": 1,
      "min": 0,
      "orientation": "horizontal",
      "style": "IPY_MODEL_6dd4f7feb998411ea5d3f0a32ea8fbaf",
      "value": 1
     }
    },
    "6dd4f7feb998411ea5d3f0a32ea8fbaf": {
     "model_module": "@jupyter-widgets/controls",
     "model_module_version": "1.5.0",
     "model_name": "ProgressStyleModel",
     "state": {
      "_model_module": "@jupyter-widgets/controls",
      "_model_module_version": "1.5.0",
      "_model_name": "ProgressStyleModel",
      "_view_count": null,
      "_view_module": "@jupyter-widgets/base",
      "_view_module_version": "1.2.0",
      "_view_name": "StyleView",
      "bar_color": null,
      "description_width": ""
     }
    },
    "6f04e2f2286144cc8a16af2d33961ab0": {
     "model_module": "@jupyter-widgets/controls",
     "model_module_version": "1.5.0",
     "model_name": "FloatProgressModel",
     "state": {
      "_dom_classes": [],
      "_model_module": "@jupyter-widgets/controls",
      "_model_module_version": "1.5.0",
      "_model_name": "FloatProgressModel",
      "_view_count": null,
      "_view_module": "@jupyter-widgets/controls",
      "_view_module_version": "1.5.0",
      "_view_name": "ProgressView",
      "bar_style": "success",
      "description": "",
      "description_tooltip": null,
      "layout": "IPY_MODEL_203a1569a5584c6c8150e4294c7fbefb",
      "max": 5,
      "min": 0,
      "orientation": "horizontal",
      "style": "IPY_MODEL_9f0efa31219e4fe59b8b017e033e7aaf",
      "value": 5
     }
    },
    "77d228c30b3e42fbab702f73b7314b0f": {
     "model_module": "@jupyter-widgets/controls",
     "model_module_version": "1.5.0",
     "model_name": "DescriptionStyleModel",
     "state": {
      "_model_module": "@jupyter-widgets/controls",
      "_model_module_version": "1.5.0",
      "_model_name": "DescriptionStyleModel",
      "_view_count": null,
      "_view_module": "@jupyter-widgets/base",
      "_view_module_version": "1.2.0",
      "_view_name": "StyleView",
      "description_width": ""
     }
    },
    "78958092265d499e81b361537f999b78": {
     "model_module": "@jupyter-widgets/base",
     "model_module_version": "1.2.0",
     "model_name": "LayoutModel",
     "state": {
      "_model_module": "@jupyter-widgets/base",
      "_model_module_version": "1.2.0",
      "_model_name": "LayoutModel",
      "_view_count": null,
      "_view_module": "@jupyter-widgets/base",
      "_view_module_version": "1.2.0",
      "_view_name": "LayoutView",
      "align_content": null,
      "align_items": null,
      "align_self": null,
      "border": null,
      "bottom": null,
      "display": null,
      "flex": null,
      "flex_flow": null,
      "grid_area": null,
      "grid_auto_columns": null,
      "grid_auto_flow": null,
      "grid_auto_rows": null,
      "grid_column": null,
      "grid_gap": null,
      "grid_row": null,
      "grid_template_areas": null,
      "grid_template_columns": null,
      "grid_template_rows": null,
      "height": null,
      "justify_content": null,
      "justify_items": null,
      "left": null,
      "margin": null,
      "max_height": null,
      "max_width": null,
      "min_height": null,
      "min_width": null,
      "object_fit": null,
      "object_position": null,
      "order": null,
      "overflow": null,
      "overflow_x": null,
      "overflow_y": null,
      "padding": null,
      "right": null,
      "top": null,
      "visibility": null,
      "width": null
     }
    },
    "7fc785f1e0774283972d8c4c010d3650": {
     "model_module": "@jupyter-widgets/controls",
     "model_module_version": "1.5.0",
     "model_name": "DescriptionStyleModel",
     "state": {
      "_model_module": "@jupyter-widgets/controls",
      "_model_module_version": "1.5.0",
      "_model_name": "DescriptionStyleModel",
      "_view_count": null,
      "_view_module": "@jupyter-widgets/base",
      "_view_module_version": "1.2.0",
      "_view_name": "StyleView",
      "description_width": ""
     }
    },
    "81b26ecc3470436aa49885320e53602f": {
     "model_module": "@jupyter-widgets/controls",
     "model_module_version": "1.5.0",
     "model_name": "HTMLModel",
     "state": {
      "_dom_classes": [],
      "_model_module": "@jupyter-widgets/controls",
      "_model_module_version": "1.5.0",
      "_model_name": "HTMLModel",
      "_view_count": null,
      "_view_module": "@jupyter-widgets/controls",
      "_view_module_version": "1.5.0",
      "_view_name": "HTMLView",
      "description": "",
      "description_tooltip": null,
      "layout": "IPY_MODEL_833c69ba939d4360b0dcd550695c1482",
      "placeholder": "​",
      "style": "IPY_MODEL_b396eef963ac48f3aeddc47115cabd83",
      "value": "100%"
     }
    },
    "833c69ba939d4360b0dcd550695c1482": {
     "model_module": "@jupyter-widgets/base",
     "model_module_version": "1.2.0",
     "model_name": "LayoutModel",
     "state": {
      "_model_module": "@jupyter-widgets/base",
      "_model_module_version": "1.2.0",
      "_model_name": "LayoutModel",
      "_view_count": null,
      "_view_module": "@jupyter-widgets/base",
      "_view_module_version": "1.2.0",
      "_view_name": "LayoutView",
      "align_content": null,
      "align_items": null,
      "align_self": null,
      "border": null,
      "bottom": null,
      "display": null,
      "flex": null,
      "flex_flow": null,
      "grid_area": null,
      "grid_auto_columns": null,
      "grid_auto_flow": null,
      "grid_auto_rows": null,
      "grid_column": null,
      "grid_gap": null,
      "grid_row": null,
      "grid_template_areas": null,
      "grid_template_columns": null,
      "grid_template_rows": null,
      "height": null,
      "justify_content": null,
      "justify_items": null,
      "left": null,
      "margin": null,
      "max_height": null,
      "max_width": null,
      "min_height": null,
      "min_width": null,
      "object_fit": null,
      "object_position": null,
      "order": null,
      "overflow": null,
      "overflow_x": null,
      "overflow_y": null,
      "padding": null,
      "right": null,
      "top": null,
      "visibility": null,
      "width": null
     }
    },
    "853a4e1a63684a00ada356cd21978028": {
     "model_module": "@jupyter-widgets/base",
     "model_module_version": "1.2.0",
     "model_name": "LayoutModel",
     "state": {
      "_model_module": "@jupyter-widgets/base",
      "_model_module_version": "1.2.0",
      "_model_name": "LayoutModel",
      "_view_count": null,
      "_view_module": "@jupyter-widgets/base",
      "_view_module_version": "1.2.0",
      "_view_name": "LayoutView",
      "align_content": null,
      "align_items": null,
      "align_self": null,
      "border": null,
      "bottom": null,
      "display": null,
      "flex": null,
      "flex_flow": null,
      "grid_area": null,
      "grid_auto_columns": null,
      "grid_auto_flow": null,
      "grid_auto_rows": null,
      "grid_column": null,
      "grid_gap": null,
      "grid_row": null,
      "grid_template_areas": null,
      "grid_template_columns": null,
      "grid_template_rows": null,
      "height": null,
      "justify_content": null,
      "justify_items": null,
      "left": null,
      "margin": null,
      "max_height": null,
      "max_width": null,
      "min_height": null,
      "min_width": null,
      "object_fit": null,
      "object_position": null,
      "order": null,
      "overflow": null,
      "overflow_x": null,
      "overflow_y": null,
      "padding": null,
      "right": null,
      "top": null,
      "visibility": null,
      "width": null
     }
    },
    "8ecfe810ffb6477bae3eab3e4f4f3f81": {
     "model_module": "@jupyter-widgets/controls",
     "model_module_version": "1.5.0",
     "model_name": "HTMLModel",
     "state": {
      "_dom_classes": [],
      "_model_module": "@jupyter-widgets/controls",
      "_model_module_version": "1.5.0",
      "_model_name": "HTMLModel",
      "_view_count": null,
      "_view_module": "@jupyter-widgets/controls",
      "_view_module_version": "1.5.0",
      "_view_name": "HTMLView",
      "description": "",
      "description_tooltip": null,
      "layout": "IPY_MODEL_78958092265d499e81b361537f999b78",
      "placeholder": "​",
      "style": "IPY_MODEL_ccc2a646c20243c48e93cbee8f597b98",
      "value": " 1/1 [44:08&lt;00:00, 2648.49s/it]"
     }
    },
    "98a8a3ca6e3c440c992709b5419cbdbb": {
     "model_module": "@jupyter-widgets/controls",
     "model_module_version": "1.5.0",
     "model_name": "HTMLModel",
     "state": {
      "_dom_classes": [],
      "_model_module": "@jupyter-widgets/controls",
      "_model_module_version": "1.5.0",
      "_model_name": "HTMLModel",
      "_view_count": null,
      "_view_module": "@jupyter-widgets/controls",
      "_view_module_version": "1.5.0",
      "_view_name": "HTMLView",
      "description": "",
      "description_tooltip": null,
      "layout": "IPY_MODEL_a2b8edb439d940a58bf5673d10fdf6b0",
      "placeholder": "​",
      "style": "IPY_MODEL_0b8396db74944979badb5c9c18b50708",
      "value": " 1/1 [44:03&lt;00:00, 2643.42s/it]"
     }
    },
    "99446b6fddcc44048d31fc4fcfd637c4": {
     "model_module": "@jupyter-widgets/controls",
     "model_module_version": "1.5.0",
     "model_name": "ProgressStyleModel",
     "state": {
      "_model_module": "@jupyter-widgets/controls",
      "_model_module_version": "1.5.0",
      "_model_name": "ProgressStyleModel",
      "_view_count": null,
      "_view_module": "@jupyter-widgets/base",
      "_view_module_version": "1.2.0",
      "_view_name": "StyleView",
      "bar_color": null,
      "description_width": ""
     }
    },
    "9e48febd054a413682b98507168bab87": {
     "model_module": "@jupyter-widgets/controls",
     "model_module_version": "1.5.0",
     "model_name": "DescriptionStyleModel",
     "state": {
      "_model_module": "@jupyter-widgets/controls",
      "_model_module_version": "1.5.0",
      "_model_name": "DescriptionStyleModel",
      "_view_count": null,
      "_view_module": "@jupyter-widgets/base",
      "_view_module_version": "1.2.0",
      "_view_name": "StyleView",
      "description_width": ""
     }
    },
    "9f0efa31219e4fe59b8b017e033e7aaf": {
     "model_module": "@jupyter-widgets/controls",
     "model_module_version": "1.5.0",
     "model_name": "ProgressStyleModel",
     "state": {
      "_model_module": "@jupyter-widgets/controls",
      "_model_module_version": "1.5.0",
      "_model_name": "ProgressStyleModel",
      "_view_count": null,
      "_view_module": "@jupyter-widgets/base",
      "_view_module_version": "1.2.0",
      "_view_name": "StyleView",
      "bar_color": null,
      "description_width": ""
     }
    },
    "a2b8edb439d940a58bf5673d10fdf6b0": {
     "model_module": "@jupyter-widgets/base",
     "model_module_version": "1.2.0",
     "model_name": "LayoutModel",
     "state": {
      "_model_module": "@jupyter-widgets/base",
      "_model_module_version": "1.2.0",
      "_model_name": "LayoutModel",
      "_view_count": null,
      "_view_module": "@jupyter-widgets/base",
      "_view_module_version": "1.2.0",
      "_view_name": "LayoutView",
      "align_content": null,
      "align_items": null,
      "align_self": null,
      "border": null,
      "bottom": null,
      "display": null,
      "flex": null,
      "flex_flow": null,
      "grid_area": null,
      "grid_auto_columns": null,
      "grid_auto_flow": null,
      "grid_auto_rows": null,
      "grid_column": null,
      "grid_gap": null,
      "grid_row": null,
      "grid_template_areas": null,
      "grid_template_columns": null,
      "grid_template_rows": null,
      "height": null,
      "justify_content": null,
      "justify_items": null,
      "left": null,
      "margin": null,
      "max_height": null,
      "max_width": null,
      "min_height": null,
      "min_width": null,
      "object_fit": null,
      "object_position": null,
      "order": null,
      "overflow": null,
      "overflow_x": null,
      "overflow_y": null,
      "padding": null,
      "right": null,
      "top": null,
      "visibility": null,
      "width": null
     }
    },
    "aea34a79119e44ca83a874501f01d420": {
     "model_module": "@jupyter-widgets/controls",
     "model_module_version": "1.5.0",
     "model_name": "HBoxModel",
     "state": {
      "_dom_classes": [],
      "_model_module": "@jupyter-widgets/controls",
      "_model_module_version": "1.5.0",
      "_model_name": "HBoxModel",
      "_view_count": null,
      "_view_module": "@jupyter-widgets/controls",
      "_view_module_version": "1.5.0",
      "_view_name": "HBoxView",
      "box_style": "",
      "children": [
       "IPY_MODEL_0a0c9478fa9a4bf0899989fdc3341b1c",
       "IPY_MODEL_bcb686a522b44836b2d0dd401d71c770",
       "IPY_MODEL_8ecfe810ffb6477bae3eab3e4f4f3f81"
      ],
      "layout": "IPY_MODEL_f03b7e449a8f4a5a8504513057824757"
     }
    },
    "b396eef963ac48f3aeddc47115cabd83": {
     "model_module": "@jupyter-widgets/controls",
     "model_module_version": "1.5.0",
     "model_name": "DescriptionStyleModel",
     "state": {
      "_model_module": "@jupyter-widgets/controls",
      "_model_module_version": "1.5.0",
      "_model_name": "DescriptionStyleModel",
      "_view_count": null,
      "_view_module": "@jupyter-widgets/base",
      "_view_module_version": "1.2.0",
      "_view_name": "StyleView",
      "description_width": ""
     }
    },
    "b4ec727ce340449d98790dba21157438": {
     "model_module": "@jupyter-widgets/base",
     "model_module_version": "1.2.0",
     "model_name": "LayoutModel",
     "state": {
      "_model_module": "@jupyter-widgets/base",
      "_model_module_version": "1.2.0",
      "_model_name": "LayoutModel",
      "_view_count": null,
      "_view_module": "@jupyter-widgets/base",
      "_view_module_version": "1.2.0",
      "_view_name": "LayoutView",
      "align_content": null,
      "align_items": null,
      "align_self": null,
      "border": null,
      "bottom": null,
      "display": null,
      "flex": null,
      "flex_flow": null,
      "grid_area": null,
      "grid_auto_columns": null,
      "grid_auto_flow": null,
      "grid_auto_rows": null,
      "grid_column": null,
      "grid_gap": null,
      "grid_row": null,
      "grid_template_areas": null,
      "grid_template_columns": null,
      "grid_template_rows": null,
      "height": null,
      "justify_content": null,
      "justify_items": null,
      "left": null,
      "margin": null,
      "max_height": null,
      "max_width": null,
      "min_height": null,
      "min_width": null,
      "object_fit": null,
      "object_position": null,
      "order": null,
      "overflow": null,
      "overflow_x": null,
      "overflow_y": null,
      "padding": null,
      "right": null,
      "top": null,
      "visibility": null,
      "width": null
     }
    },
    "b5da16b8824f4925939a0c546f6debb8": {
     "model_module": "@jupyter-widgets/base",
     "model_module_version": "1.2.0",
     "model_name": "LayoutModel",
     "state": {
      "_model_module": "@jupyter-widgets/base",
      "_model_module_version": "1.2.0",
      "_model_name": "LayoutModel",
      "_view_count": null,
      "_view_module": "@jupyter-widgets/base",
      "_view_module_version": "1.2.0",
      "_view_name": "LayoutView",
      "align_content": null,
      "align_items": null,
      "align_self": null,
      "border": null,
      "bottom": null,
      "display": null,
      "flex": null,
      "flex_flow": null,
      "grid_area": null,
      "grid_auto_columns": null,
      "grid_auto_flow": null,
      "grid_auto_rows": null,
      "grid_column": null,
      "grid_gap": null,
      "grid_row": null,
      "grid_template_areas": null,
      "grid_template_columns": null,
      "grid_template_rows": null,
      "height": null,
      "justify_content": null,
      "justify_items": null,
      "left": null,
      "margin": null,
      "max_height": null,
      "max_width": null,
      "min_height": null,
      "min_width": null,
      "object_fit": null,
      "object_position": null,
      "order": null,
      "overflow": null,
      "overflow_x": null,
      "overflow_y": null,
      "padding": null,
      "right": null,
      "top": null,
      "visibility": null,
      "width": null
     }
    },
    "b8a69a5a11054210930cc193b85f3f9b": {
     "model_module": "@jupyter-widgets/controls",
     "model_module_version": "1.5.0",
     "model_name": "DescriptionStyleModel",
     "state": {
      "_model_module": "@jupyter-widgets/controls",
      "_model_module_version": "1.5.0",
      "_model_name": "DescriptionStyleModel",
      "_view_count": null,
      "_view_module": "@jupyter-widgets/base",
      "_view_module_version": "1.2.0",
      "_view_name": "StyleView",
      "description_width": ""
     }
    },
    "bc499f893d4b4a62b24d7aa86f050ef8": {
     "model_module": "@jupyter-widgets/controls",
     "model_module_version": "1.5.0",
     "model_name": "HBoxModel",
     "state": {
      "_dom_classes": [],
      "_model_module": "@jupyter-widgets/controls",
      "_model_module_version": "1.5.0",
      "_model_name": "HBoxModel",
      "_view_count": null,
      "_view_module": "@jupyter-widgets/controls",
      "_view_module_version": "1.5.0",
      "_view_name": "HBoxView",
      "box_style": "",
      "children": [
       "IPY_MODEL_0657aaadb54f477bbeb5d859743d5de2",
       "IPY_MODEL_6f04e2f2286144cc8a16af2d33961ab0",
       "IPY_MODEL_daea1e913b32461e81c4717dd7cd280d"
      ],
      "layout": "IPY_MODEL_47528fc6dd1345239d6f77622a4243a2"
     }
    },
    "bcb686a522b44836b2d0dd401d71c770": {
     "model_module": "@jupyter-widgets/controls",
     "model_module_version": "1.5.0",
     "model_name": "FloatProgressModel",
     "state": {
      "_dom_classes": [],
      "_model_module": "@jupyter-widgets/controls",
      "_model_module_version": "1.5.0",
      "_model_name": "FloatProgressModel",
      "_view_count": null,
      "_view_module": "@jupyter-widgets/controls",
      "_view_module_version": "1.5.0",
      "_view_name": "ProgressView",
      "bar_style": "success",
      "description": "",
      "description_tooltip": null,
      "layout": "IPY_MODEL_853a4e1a63684a00ada356cd21978028",
      "max": 1,
      "min": 0,
      "orientation": "horizontal",
      "style": "IPY_MODEL_99446b6fddcc44048d31fc4fcfd637c4",
      "value": 1
     }
    },
    "ccc2a646c20243c48e93cbee8f597b98": {
     "model_module": "@jupyter-widgets/controls",
     "model_module_version": "1.5.0",
     "model_name": "DescriptionStyleModel",
     "state": {
      "_model_module": "@jupyter-widgets/controls",
      "_model_module_version": "1.5.0",
      "_model_name": "DescriptionStyleModel",
      "_view_count": null,
      "_view_module": "@jupyter-widgets/base",
      "_view_module_version": "1.2.0",
      "_view_name": "StyleView",
      "description_width": ""
     }
    },
    "cebe08646cee4216a140f8c07c65d044": {
     "model_module": "@jupyter-widgets/controls",
     "model_module_version": "1.5.0",
     "model_name": "DescriptionStyleModel",
     "state": {
      "_model_module": "@jupyter-widgets/controls",
      "_model_module_version": "1.5.0",
      "_model_name": "DescriptionStyleModel",
      "_view_count": null,
      "_view_module": "@jupyter-widgets/base",
      "_view_module_version": "1.2.0",
      "_view_name": "StyleView",
      "description_width": ""
     }
    },
    "d0ddc31521664dd48ab0065fa6ce31e9": {
     "model_module": "@jupyter-widgets/controls",
     "model_module_version": "1.5.0",
     "model_name": "DescriptionStyleModel",
     "state": {
      "_model_module": "@jupyter-widgets/controls",
      "_model_module_version": "1.5.0",
      "_model_name": "DescriptionStyleModel",
      "_view_count": null,
      "_view_module": "@jupyter-widgets/base",
      "_view_module_version": "1.2.0",
      "_view_name": "StyleView",
      "description_width": ""
     }
    },
    "d1de058fd17a4de6a6d12340a63271db": {
     "model_module": "@jupyter-widgets/base",
     "model_module_version": "1.2.0",
     "model_name": "LayoutModel",
     "state": {
      "_model_module": "@jupyter-widgets/base",
      "_model_module_version": "1.2.0",
      "_model_name": "LayoutModel",
      "_view_count": null,
      "_view_module": "@jupyter-widgets/base",
      "_view_module_version": "1.2.0",
      "_view_name": "LayoutView",
      "align_content": null,
      "align_items": null,
      "align_self": null,
      "border": null,
      "bottom": null,
      "display": null,
      "flex": null,
      "flex_flow": null,
      "grid_area": null,
      "grid_auto_columns": null,
      "grid_auto_flow": null,
      "grid_auto_rows": null,
      "grid_column": null,
      "grid_gap": null,
      "grid_row": null,
      "grid_template_areas": null,
      "grid_template_columns": null,
      "grid_template_rows": null,
      "height": null,
      "justify_content": null,
      "justify_items": null,
      "left": null,
      "margin": null,
      "max_height": null,
      "max_width": null,
      "min_height": null,
      "min_width": null,
      "object_fit": null,
      "object_position": null,
      "order": null,
      "overflow": null,
      "overflow_x": null,
      "overflow_y": null,
      "padding": null,
      "right": null,
      "top": null,
      "visibility": null,
      "width": null
     }
    },
    "d56917882d8c40368b20959c945d1da9": {
     "model_module": "@jupyter-widgets/base",
     "model_module_version": "1.2.0",
     "model_name": "LayoutModel",
     "state": {
      "_model_module": "@jupyter-widgets/base",
      "_model_module_version": "1.2.0",
      "_model_name": "LayoutModel",
      "_view_count": null,
      "_view_module": "@jupyter-widgets/base",
      "_view_module_version": "1.2.0",
      "_view_name": "LayoutView",
      "align_content": null,
      "align_items": null,
      "align_self": null,
      "border": null,
      "bottom": null,
      "display": null,
      "flex": null,
      "flex_flow": null,
      "grid_area": null,
      "grid_auto_columns": null,
      "grid_auto_flow": null,
      "grid_auto_rows": null,
      "grid_column": null,
      "grid_gap": null,
      "grid_row": null,
      "grid_template_areas": null,
      "grid_template_columns": null,
      "grid_template_rows": null,
      "height": null,
      "justify_content": null,
      "justify_items": null,
      "left": null,
      "margin": null,
      "max_height": null,
      "max_width": null,
      "min_height": null,
      "min_width": null,
      "object_fit": null,
      "object_position": null,
      "order": null,
      "overflow": null,
      "overflow_x": null,
      "overflow_y": null,
      "padding": null,
      "right": null,
      "top": null,
      "visibility": null,
      "width": null
     }
    },
    "daea1e913b32461e81c4717dd7cd280d": {
     "model_module": "@jupyter-widgets/controls",
     "model_module_version": "1.5.0",
     "model_name": "HTMLModel",
     "state": {
      "_dom_classes": [],
      "_model_module": "@jupyter-widgets/controls",
      "_model_module_version": "1.5.0",
      "_model_name": "HTMLModel",
      "_view_count": null,
      "_view_module": "@jupyter-widgets/controls",
      "_view_module_version": "1.5.0",
      "_view_name": "HTMLView",
      "description": "",
      "description_tooltip": null,
      "layout": "IPY_MODEL_5d4b4af920a34ff9bb5a7e5771c25b89",
      "placeholder": "​",
      "style": "IPY_MODEL_77d228c30b3e42fbab702f73b7314b0f",
      "value": " 5/5 [00:03&lt;00:00,  1.50it/s]"
     }
    },
    "dcd6ee469994430f9176b65f77765e21": {
     "model_module": "@jupyter-widgets/controls",
     "model_module_version": "1.5.0",
     "model_name": "HBoxModel",
     "state": {
      "_dom_classes": [],
      "_model_module": "@jupyter-widgets/controls",
      "_model_module_version": "1.5.0",
      "_model_name": "HBoxModel",
      "_view_count": null,
      "_view_module": "@jupyter-widgets/controls",
      "_view_module_version": "1.5.0",
      "_view_name": "HBoxView",
      "box_style": "",
      "children": [
       "IPY_MODEL_e470bc47c812452fb50b4ed572e82766",
       "IPY_MODEL_f0fb2abb27b144618b9b7be807729b04",
       "IPY_MODEL_5ef4090fc8c7438a9076b6cf2a1c2ddf"
      ],
      "layout": "IPY_MODEL_5f9964e5320c402f88900926813a6325"
     }
    },
    "e470bc47c812452fb50b4ed572e82766": {
     "model_module": "@jupyter-widgets/controls",
     "model_module_version": "1.5.0",
     "model_name": "HTMLModel",
     "state": {
      "_dom_classes": [],
      "_model_module": "@jupyter-widgets/controls",
      "_model_module_version": "1.5.0",
      "_model_name": "HTMLModel",
      "_view_count": null,
      "_view_module": "@jupyter-widgets/controls",
      "_view_module_version": "1.5.0",
      "_view_name": "HTMLView",
      "description": "",
      "description_tooltip": null,
      "layout": "IPY_MODEL_d56917882d8c40368b20959c945d1da9",
      "placeholder": "​",
      "style": "IPY_MODEL_9e48febd054a413682b98507168bab87",
      "value": "100%"
     }
    },
    "e8fb59c31cf34a3d96d5290a79f7a529": {
     "model_module": "@jupyter-widgets/base",
     "model_module_version": "1.2.0",
     "model_name": "LayoutModel",
     "state": {
      "_model_module": "@jupyter-widgets/base",
      "_model_module_version": "1.2.0",
      "_model_name": "LayoutModel",
      "_view_count": null,
      "_view_module": "@jupyter-widgets/base",
      "_view_module_version": "1.2.0",
      "_view_name": "LayoutView",
      "align_content": null,
      "align_items": null,
      "align_self": null,
      "border": null,
      "bottom": null,
      "display": null,
      "flex": null,
      "flex_flow": null,
      "grid_area": null,
      "grid_auto_columns": null,
      "grid_auto_flow": null,
      "grid_auto_rows": null,
      "grid_column": null,
      "grid_gap": null,
      "grid_row": null,
      "grid_template_areas": null,
      "grid_template_columns": null,
      "grid_template_rows": null,
      "height": null,
      "justify_content": null,
      "justify_items": null,
      "left": null,
      "margin": null,
      "max_height": null,
      "max_width": null,
      "min_height": null,
      "min_width": null,
      "object_fit": null,
      "object_position": null,
      "order": null,
      "overflow": null,
      "overflow_x": null,
      "overflow_y": null,
      "padding": null,
      "right": null,
      "top": null,
      "visibility": null,
      "width": null
     }
    },
    "e95a1ed58d874183b28784e8ee6a0fc7": {
     "model_module": "@jupyter-widgets/base",
     "model_module_version": "1.2.0",
     "model_name": "LayoutModel",
     "state": {
      "_model_module": "@jupyter-widgets/base",
      "_model_module_version": "1.2.0",
      "_model_name": "LayoutModel",
      "_view_count": null,
      "_view_module": "@jupyter-widgets/base",
      "_view_module_version": "1.2.0",
      "_view_name": "LayoutView",
      "align_content": null,
      "align_items": null,
      "align_self": null,
      "border": null,
      "bottom": null,
      "display": null,
      "flex": null,
      "flex_flow": null,
      "grid_area": null,
      "grid_auto_columns": null,
      "grid_auto_flow": null,
      "grid_auto_rows": null,
      "grid_column": null,
      "grid_gap": null,
      "grid_row": null,
      "grid_template_areas": null,
      "grid_template_columns": null,
      "grid_template_rows": null,
      "height": null,
      "justify_content": null,
      "justify_items": null,
      "left": null,
      "margin": null,
      "max_height": null,
      "max_width": null,
      "min_height": null,
      "min_width": null,
      "object_fit": null,
      "object_position": null,
      "order": null,
      "overflow": null,
      "overflow_x": null,
      "overflow_y": null,
      "padding": null,
      "right": null,
      "top": null,
      "visibility": null,
      "width": null
     }
    },
    "ef2901bd01614f0aacb31ec930953234": {
     "model_module": "@jupyter-widgets/base",
     "model_module_version": "1.2.0",
     "model_name": "LayoutModel",
     "state": {
      "_model_module": "@jupyter-widgets/base",
      "_model_module_version": "1.2.0",
      "_model_name": "LayoutModel",
      "_view_count": null,
      "_view_module": "@jupyter-widgets/base",
      "_view_module_version": "1.2.0",
      "_view_name": "LayoutView",
      "align_content": null,
      "align_items": null,
      "align_self": null,
      "border": null,
      "bottom": null,
      "display": null,
      "flex": null,
      "flex_flow": null,
      "grid_area": null,
      "grid_auto_columns": null,
      "grid_auto_flow": null,
      "grid_auto_rows": null,
      "grid_column": null,
      "grid_gap": null,
      "grid_row": null,
      "grid_template_areas": null,
      "grid_template_columns": null,
      "grid_template_rows": null,
      "height": null,
      "justify_content": null,
      "justify_items": null,
      "left": null,
      "margin": null,
      "max_height": null,
      "max_width": null,
      "min_height": null,
      "min_width": null,
      "object_fit": null,
      "object_position": null,
      "order": null,
      "overflow": null,
      "overflow_x": null,
      "overflow_y": null,
      "padding": null,
      "right": null,
      "top": null,
      "visibility": null,
      "width": null
     }
    },
    "f03b7e449a8f4a5a8504513057824757": {
     "model_module": "@jupyter-widgets/base",
     "model_module_version": "1.2.0",
     "model_name": "LayoutModel",
     "state": {
      "_model_module": "@jupyter-widgets/base",
      "_model_module_version": "1.2.0",
      "_model_name": "LayoutModel",
      "_view_count": null,
      "_view_module": "@jupyter-widgets/base",
      "_view_module_version": "1.2.0",
      "_view_name": "LayoutView",
      "align_content": null,
      "align_items": null,
      "align_self": null,
      "border": null,
      "bottom": null,
      "display": null,
      "flex": null,
      "flex_flow": null,
      "grid_area": null,
      "grid_auto_columns": null,
      "grid_auto_flow": null,
      "grid_auto_rows": null,
      "grid_column": null,
      "grid_gap": null,
      "grid_row": null,
      "grid_template_areas": null,
      "grid_template_columns": null,
      "grid_template_rows": null,
      "height": null,
      "justify_content": null,
      "justify_items": null,
      "left": null,
      "margin": null,
      "max_height": null,
      "max_width": null,
      "min_height": null,
      "min_width": null,
      "object_fit": null,
      "object_position": null,
      "order": null,
      "overflow": null,
      "overflow_x": null,
      "overflow_y": null,
      "padding": null,
      "right": null,
      "top": null,
      "visibility": null,
      "width": null
     }
    },
    "f0fb2abb27b144618b9b7be807729b04": {
     "model_module": "@jupyter-widgets/controls",
     "model_module_version": "1.5.0",
     "model_name": "FloatProgressModel",
     "state": {
      "_dom_classes": [],
      "_model_module": "@jupyter-widgets/controls",
      "_model_module_version": "1.5.0",
      "_model_name": "FloatProgressModel",
      "_view_count": null,
      "_view_module": "@jupyter-widgets/controls",
      "_view_module_version": "1.5.0",
      "_view_name": "ProgressView",
      "bar_style": "success",
      "description": "",
      "description_tooltip": null,
      "layout": "IPY_MODEL_b4ec727ce340449d98790dba21157438",
      "max": 1,
      "min": 0,
      "orientation": "horizontal",
      "style": "IPY_MODEL_f5a6d55ba2184e8ba14d0b84ac34cf1d",
      "value": 1
     }
    },
    "f5a6d55ba2184e8ba14d0b84ac34cf1d": {
     "model_module": "@jupyter-widgets/controls",
     "model_module_version": "1.5.0",
     "model_name": "ProgressStyleModel",
     "state": {
      "_model_module": "@jupyter-widgets/controls",
      "_model_module_version": "1.5.0",
      "_model_name": "ProgressStyleModel",
      "_view_count": null,
      "_view_module": "@jupyter-widgets/base",
      "_view_module_version": "1.2.0",
      "_view_name": "StyleView",
      "bar_color": null,
      "description_width": ""
     }
    },
    "ffad29e0a7e3465db206f35fe0edb42b": {
     "model_module": "@jupyter-widgets/controls",
     "model_module_version": "1.5.0",
     "model_name": "DescriptionStyleModel",
     "state": {
      "_model_module": "@jupyter-widgets/controls",
      "_model_module_version": "1.5.0",
      "_model_name": "DescriptionStyleModel",
      "_view_count": null,
      "_view_module": "@jupyter-widgets/base",
      "_view_module_version": "1.2.0",
      "_view_name": "StyleView",
      "description_width": ""
     }
    }
   }
  }
 },
 "nbformat": 4,
 "nbformat_minor": 1
}
