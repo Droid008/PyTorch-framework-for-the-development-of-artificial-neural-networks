{
  "cells": [
    {
      "cell_type": "markdown",
      "metadata": {
        "id": "view-in-github",
        "colab_type": "text"
      },
      "source": [
        "<a href=\"https://colab.research.google.com/github/Droid008/PyTorch-framework-for-the-development-of-artificial-neural-networks/blob/Lesson-%236/HW-%236.ipynb\" target=\"_parent\"><img src=\"https://colab.research.google.com/assets/colab-badge.svg\" alt=\"Open In Colab\"/></a>"
      ]
    },
    {
      "cell_type": "code",
      "execution_count": 1,
      "id": "e7abeed4",
      "metadata": {
        "id": "e7abeed4"
      },
      "outputs": [],
      "source": [
        "import numpy as np\n",
        "import pandas as pd\n",
        "import matplotlib.pyplot as plt\n",
        "\n",
        "from tqdm.notebook import tqdm\n",
        "import datetime as dt\n",
        "\n",
        "from sklearn.datasets import fetch_20newsgroups\n",
        "from sklearn.model_selection import train_test_split\n",
        "from sklearn.metrics import classification_report, confusion_matrix, ConfusionMatrixDisplay"
      ]
    },
    {
      "cell_type": "markdown",
      "id": "3206f916",
      "metadata": {
        "id": "3206f916"
      },
      "source": [
        "### Загрузка данных"
      ]
    },
    {
      "cell_type": "code",
      "execution_count": 2,
      "id": "a0383d24",
      "metadata": {
        "id": "a0383d24"
      },
      "outputs": [],
      "source": [
        "data_train = fetch_20newsgroups(subset='train', \n",
        "                                shuffle=True, random_state=42)\n",
        "\n",
        "data_test = fetch_20newsgroups(subset='test', \n",
        "                               shuffle=False)"
      ]
    },
    {
      "cell_type": "code",
      "execution_count": 3,
      "id": "669d71af",
      "metadata": {
        "id": "669d71af"
      },
      "outputs": [],
      "source": [
        "df_train, df_val, y_train, y_val = train_test_split(pd.DataFrame(data_train.data, columns=['text']),\n",
        "                                                    data_train.target,\n",
        "                                                    test_size=0.3, random_state=42)\n",
        "\n",
        "df_train.reset_index(drop=True, inplace=True)\n",
        "df_val.reset_index(drop=True, inplace=True)\n",
        "\n",
        "df_test = pd.DataFrame(data_test.data, columns=['text'])\n",
        "y_test = data_test.target"
      ]
    },
    {
      "cell_type": "markdown",
      "id": "e5b2b58a",
      "metadata": {
        "id": "e5b2b58a"
      },
      "source": [
        "### Предобработка"
      ]
    },
    {
      "cell_type": "code",
      "execution_count": 12,
      "id": "dcc88650",
      "metadata": {
        "colab": {
          "base_uri": "https://localhost:8080/"
        },
        "id": "dcc88650",
        "outputId": "9854e594-5e04-4e47-aa44-0148bc697435"
      },
      "outputs": [
        {
          "output_type": "stream",
          "name": "stdout",
          "text": [
            "[nltk_data] Downloading package punkt to /root/nltk_data...\n",
            "[nltk_data]   Unzipping tokenizers/punkt.zip.\n"
          ]
        }
      ],
      "source": [
        "from string import punctuation\n",
        "from stop_words import get_stop_words\n",
        "from pymorphy2 import MorphAnalyzer\n",
        "import re\n",
        "\n",
        "import nltk\n",
        "from nltk.tokenize import word_tokenize\n",
        "from nltk.probability import FreqDist\n",
        "\n",
        "nltk.download(\"punkt\")\n",
        "\n",
        "sw = set(get_stop_words(\"en\"))\n",
        "exclude = set(punctuation)\n",
        "morpher = MorphAnalyzer()"
      ]
    },
    {
      "cell_type": "code",
      "execution_count": 13,
      "id": "00472974",
      "metadata": {
        "id": "00472974"
      },
      "outputs": [],
      "source": [
        "def preprocess_text(txt):\n",
        "    txt = str(txt)\n",
        "    txt = \"\".join(c for c in txt if c not in exclude)\n",
        "    txt = txt.lower()\n",
        "    txt = [morpher.parse(word)[0].normal_form for word in txt.split() if word not in sw]\n",
        "    return \" \".join(txt)\n",
        "\n",
        "df_train['text'] = df_train['text'].apply(preprocess_text)\n",
        "df_val['text'] = df_val['text'].apply(preprocess_text)\n",
        "df_test['text'] = df_test['text'].apply(preprocess_text)"
      ]
    },
    {
      "cell_type": "code",
      "execution_count": 14,
      "id": "3f96bf2d",
      "metadata": {
        "id": "3f96bf2d"
      },
      "outputs": [],
      "source": [
        "train_corpus = \" \".join(df_train[\"text\"])\n",
        "train_corpus = train_corpus.lower()"
      ]
    },
    {
      "cell_type": "code",
      "execution_count": 15,
      "id": "860fcf0e",
      "metadata": {
        "id": "860fcf0e"
      },
      "outputs": [],
      "source": [
        "tokens = word_tokenize(train_corpus)"
      ]
    },
    {
      "cell_type": "code",
      "execution_count": 16,
      "id": "bac36ec6",
      "metadata": {
        "id": "bac36ec6"
      },
      "outputs": [],
      "source": [
        "tokens_filtered = [word for word in tokens if word.isalnum()]\n",
        "dist = FreqDist(tokens_filtered)"
      ]
    },
    {
      "cell_type": "code",
      "execution_count": 17,
      "id": "fccc1bfe",
      "metadata": {
        "id": "fccc1bfe"
      },
      "outputs": [],
      "source": [
        "def get_vocabulary(max_words):\n",
        "    tokens_filtered_top = [pair[0] for pair in dist.most_common(max_words-1)]\n",
        "    vocabulary = {v: k for k, v in dict(enumerate(tokens_filtered_top, 1)).items()}\n",
        "    return vocabulary"
      ]
    },
    {
      "cell_type": "code",
      "execution_count": 18,
      "id": "ef7ce7a9",
      "metadata": {
        "id": "ef7ce7a9"
      },
      "outputs": [],
      "source": [
        "def text_to_sequence(text, maxlen, vocabulary):\n",
        "    result = []\n",
        "    tokens = word_tokenize(text.lower())\n",
        "    tokens_filtered = [word for word in tokens if word.isalnum()]\n",
        "    for word in tokens_filtered:\n",
        "        if word in vocabulary:\n",
        "            result.append(vocabulary[word])\n",
        "    padding = [0]*(maxlen-len(result))\n",
        "    return padding + result[-maxlen:]"
      ]
    },
    {
      "cell_type": "code",
      "execution_count": 19,
      "id": "279f2949",
      "metadata": {
        "id": "279f2949"
      },
      "outputs": [],
      "source": [
        "def prepare_data(max_words, max_len):\n",
        "    vocabulary = get_vocabulary(max_words)\n",
        "    x_train = np.asarray([text_to_sequence(text, max_len, vocabulary) for text in df_train[\"text\"]], dtype=np.int32)\n",
        "    x_val = np.asarray([text_to_sequence(text, max_len, vocabulary) for text in df_val[\"text\"]], dtype=np.int32)\n",
        "    x_test = np.asarray([text_to_sequence(text, max_len, vocabulary) for text in df_test[\"text\"]], dtype=np.int32)\n",
        "    print(f'x_train.shape: {x_train.shape}')\n",
        "    print(f'x_val.shape: {x_val.shape}')\n",
        "    print(f'x_test.shape: {x_test.shape}')\n",
        "    return x_train, x_val, x_test, vocabulary"
      ]
    },
    {
      "cell_type": "markdown",
      "id": "1ecd073e",
      "metadata": {
        "id": "1ecd073e"
      },
      "source": [
        "### Модель"
      ]
    },
    {
      "cell_type": "code",
      "execution_count": 20,
      "id": "4c48c8ec",
      "metadata": {
        "id": "4c48c8ec"
      },
      "outputs": [],
      "source": [
        "import random\n",
        "import torch\n",
        "import torch.nn as nn\n",
        "\n",
        "seed = 0\n",
        "\n",
        "random.seed(seed)\n",
        "np.random.seed(seed)\n",
        "torch.manual_seed(seed)\n",
        "torch.cuda.manual_seed(seed)\n",
        "torch.backends.cudnn.deterministic = True"
      ]
    },
    {
      "cell_type": "code",
      "execution_count": 21,
      "id": "54df3aed",
      "metadata": {
        "colab": {
          "base_uri": "https://localhost:8080/"
        },
        "id": "54df3aed",
        "outputId": "ea4d47b5-1e8e-4819-cc01-ed0f202f5fee"
      },
      "outputs": [
        {
          "output_type": "stream",
          "name": "stdout",
          "text": [
            "cpu\n"
          ]
        }
      ],
      "source": [
        "device = torch.device(\"cuda:0\" if torch.cuda.is_available() else \"cpu\")\n",
        "print(device)"
      ]
    },
    {
      "cell_type": "code",
      "execution_count": 22,
      "id": "a986e674",
      "metadata": {
        "id": "a986e674"
      },
      "outputs": [],
      "source": [
        "class Net(nn.Module):\n",
        "    def __init__(self, vocab_size=20, embedding_dim=128, out_channel=128, num_classes=1):\n",
        "        super().__init__()\n",
        "        self.embedding = nn.Embedding(vocab_size, embedding_dim)\n",
        "        self.conv = nn.Conv1d(embedding_dim, out_channel, kernel_size=3)\n",
        "        self.relu = nn.ReLU()\n",
        "        self.linear = nn.Linear(out_channel, num_classes)\n",
        "        \n",
        "    def forward(self, x):        \n",
        "        output = self.embedding(x)\n",
        "        #                       B  F  L         \n",
        "        output = output.permute(0, 2, 1)\n",
        "        output = self.conv(output)\n",
        "        output = self.relu(output)\n",
        "        output = torch.max(output, axis=2).values\n",
        "        output = self.linear(output)\n",
        "        \n",
        "        return output"
      ]
    },
    {
      "cell_type": "code",
      "execution_count": 23,
      "id": "d95c1cb4",
      "metadata": {
        "id": "d95c1cb4"
      },
      "outputs": [],
      "source": [
        "from torch.utils.data import DataLoader, Dataset\n",
        "\n",
        "class DataWrapper(Dataset):\n",
        "    def __init__(self, data, target=None, transform=None):\n",
        "        self.data = torch.from_numpy(data).long()\n",
        "        if target is not None:\n",
        "            self.target = torch.from_numpy(target).long()\n",
        "        self.transform = transform\n",
        "        \n",
        "    def __getitem__(self, index):\n",
        "        x = self.data[index]\n",
        "        if self.target is not None:\n",
        "            y = np.zeros(20, dtype=float)\n",
        "            y[self.target[index]] = 1\n",
        "        else:\n",
        "            y = None\n",
        "        y = self.target[index] if self.target is not None else None\n",
        "        \n",
        "        if self.transform:\n",
        "            x = self.transform(x)\n",
        "            \n",
        "        return x, y\n",
        "    \n",
        "    def __len__(self):\n",
        "        return len(self.data)"
      ]
    },
    {
      "cell_type": "code",
      "execution_count": 24,
      "id": "73f17001",
      "metadata": {
        "id": "73f17001"
      },
      "outputs": [],
      "source": [
        "class Trainer():\n",
        "    \"\"\"\n",
        "    Parameters:\n",
        "        dataset: пользовательский класс, предобрабатывающий данные\n",
        "        train_preprocessing: преобразования тренировочных данных\n",
        "        valid_preprocessing: преобразования валидационных данных\n",
        "        \n",
        "        loss_f: функция потерь\n",
        "        learning_rate: величина градиентного шага\n",
        "        epoch_amount: общее количество эпох\n",
        "        batch_size: размер одного бача\n",
        "        max_batches_per_epoch: максимальное количество батчей, \n",
        "                               подаваемых в модель в одну эпоху\n",
        "        device: устройство для вычислений\n",
        "        early_stopping: количество эпох без улучшений до остановки обучения\n",
        "        \n",
        "        optim: оптимизатор\n",
        "        params_to_update: список обучаемых параметров\n",
        "        \n",
        "        scheduler: регулятор градиентного шага\n",
        "        permutate: перемешивание тренировочной выборки перед обучением\n",
        "\n",
        "    Attributes:\n",
        "        start_model: необученная модель\n",
        "        best_model: модель, после обучения\n",
        "        train_loss: средние значения функции потерь на тренировочных \n",
        "                    данных в каждой эпохе\n",
        "        val_loss: средние значения функции потерь на валидационных \n",
        "                  данных в каждой эпохе\n",
        "\n",
        "    Methods:\n",
        "        fit: обучение модели\n",
        "        predict: возвращает предсказание обученной моделью\n",
        "\n",
        "    \"\"\"\n",
        "    def __init__(self,  dataset, net, loss_f,\n",
        "                 train_preprocessing=None,\n",
        "                 valid_preprocessing=None,\n",
        "                 learning_rate=1e-3, \n",
        "                 epoch_amount=10, batch_size=12,\n",
        "                 max_batches_per_epoch=None,\n",
        "                 device='cpu', early_stopping=10,\n",
        "                 optim=torch.optim.Adam,\n",
        "                 params_to_update=None,\n",
        "                 scheduler=None, permutate=True):\n",
        "        \n",
        "        self.loss_f = loss_f\n",
        "        self.learning_rate = learning_rate\n",
        "        self.epoch_amount = epoch_amount\n",
        "        self.batch_size = batch_size\n",
        "        self.max_batches_per_epoch = max_batches_per_epoch\n",
        "        self.device = device\n",
        "        self.early_stopping = early_stopping\n",
        "        \n",
        "        self.optim = optim\n",
        "        self.params_to_update = params_to_update\n",
        "        \n",
        "        self.scheduler = scheduler\n",
        "        self.permutate = permutate\n",
        "        self.dataset = dataset\n",
        "        self.train_preprocessing = train_preprocessing\n",
        "        self.valid_preprocessing = valid_preprocessing\n",
        "        \n",
        "        self.start_model = net\n",
        "        self.best_model = net\n",
        "\n",
        "        self.train_loss = []\n",
        "        self.val_loss = []\n",
        "    \n",
        "    def predict(self, X):\n",
        "        return self.best_model(X)\n",
        "\n",
        "    def fit(self, train_dataset, train_labels, valid_dataset, valid_labels):\n",
        "\n",
        "        Net = self.start_model\n",
        "            \n",
        "        device = torch.device(self.device)\n",
        "\n",
        "        Net.to(self.device)\n",
        "\n",
        "        if self.params_to_update is not None:\n",
        "            optimizer = self.optim(self.params_to_update, lr=self.learning_rate)\n",
        "        else:\n",
        "            optimizer = self.optim(Net.parameters(), lr=self.learning_rate)\n",
        "\n",
        "        if self.scheduler is not None:\n",
        "            scheduler = self.scheduler(optimizer)\n",
        "\n",
        "        train = self.dataset(train_dataset, train_labels, self.train_preprocessing)\n",
        "        val = self.dataset(valid_dataset, valid_labels, self.valid_preprocessing)  \n",
        "\n",
        "        train = DataLoader(train, batch_size=self.batch_size, shuffle=self.permutate) \n",
        "        val = DataLoader(val, batch_size=self.batch_size, shuffle=False)\n",
        "\n",
        "        best_val_loss = float('inf') # Лучшее значение функции потерь на валидационной выборке\n",
        "        best_ep = 0                  # Эпоха, на которой достигалось лучшее \n",
        "                                     # значение функции потерь на валидационной выборке\n",
        "\n",
        "        for epoch in range(self.epoch_amount): \n",
        "            start = dt.datetime.now()\n",
        "            print(f'Эпоха: {epoch}', end=' ')\n",
        "            Net.train()\n",
        "            mean_loss = 0\n",
        "            batch_n = 0\n",
        "\n",
        "            for batch_X, target in train:\n",
        "                if self.max_batches_per_epoch is not None:\n",
        "                    if batch_n >= self.max_batches_per_epoch:\n",
        "                        break\n",
        "                optimizer.zero_grad()\n",
        "\n",
        "                batch_X = batch_X.to(self.device)\n",
        "                target = target.to(self.device)\n",
        "\n",
        "                predicted_values = Net(batch_X)\n",
        "                loss = self.loss_f(predicted_values, target)\n",
        "                loss.backward()\n",
        "                optimizer.step()\n",
        "\n",
        "                mean_loss += float(loss)\n",
        "                batch_n += 1\n",
        "        \n",
        "            mean_loss /= batch_n\n",
        "            self.train_loss.append(mean_loss)\n",
        "            print(f'Loss_train: {mean_loss}, {dt.datetime.now() - start} сек')\n",
        "\n",
        "            Net.eval()\n",
        "            mean_loss = 0\n",
        "            batch_n = 0\n",
        "\n",
        "            with torch.no_grad():\n",
        "                for batch_X, target in val:\n",
        "                    if self.max_batches_per_epoch is not None:\n",
        "                        if batch_n >= self.max_batches_per_epoch:\n",
        "                            break\n",
        "                batch_X = batch_X.to(self.device)\n",
        "                target = target.to(self.device)\n",
        "\n",
        "                predicted_values = Net(batch_X)\n",
        "                loss = self.loss_f(predicted_values, target)\n",
        "\n",
        "                mean_loss += float(loss)\n",
        "                batch_n += 1\n",
        "        \n",
        "            mean_loss /= batch_n\n",
        "            self.val_loss.append(mean_loss)\n",
        "            print(f'Loss_val: {mean_loss}')\n",
        "\n",
        "            if mean_loss < best_val_loss:\n",
        "                self.best_model = Net\n",
        "                best_val_loss = mean_loss\n",
        "                best_ep = epoch\n",
        "            elif epoch - best_ep > self.early_stopping:\n",
        "                print(f'{self.early_stopping} без улучшений. Прекращаем обучение...')\n",
        "                break\n",
        "            if self.scheduler is not None:\n",
        "                scheduler.step()\n",
        "            print()\n",
        "\n",
        "    def save_model(self, PATH):\n",
        "        torch.save(self.best_model.state_dict(), PATH)\n",
        "\n",
        "    def load_model(self, PATH):\n",
        "         self.best_model.load_state_dict(torch.load(PATH))       \n",
        "        \n",
        "    def get_clf_results(self, test_dataset, test_labels):\n",
        "        test = self.dataset(test_dataset, test_labels, self.valid_preprocessing)\n",
        "        test = DataLoader(test, batch_size=self.batch_size, shuffle=False)\n",
        "        \n",
        "        true_labels = []\n",
        "        pred_labels = []\n",
        "        with torch.no_grad():\n",
        "            for batch_X, labels in test:\n",
        "                true_labels += list(labels.numpy())\n",
        "                batch_X = batch_X.to(self.device)\n",
        "                labels = labels.to(self.device)\n",
        "\n",
        "                outputs = self.predict(batch_X)\n",
        "                _, predicted = torch.max(outputs.data, 1)\n",
        "                \n",
        "                pred_labels += list(predicted.numpy())\n",
        "        return true_labels, pred_labels "
      ]
    },
    {
      "cell_type": "markdown",
      "id": "3816edb3",
      "metadata": {
        "id": "3816edb3"
      },
      "source": [
        "### Вариант #1"
      ]
    },
    {
      "cell_type": "code",
      "execution_count": 25,
      "id": "d096a66a",
      "metadata": {
        "colab": {
          "base_uri": "https://localhost:8080/"
        },
        "id": "d096a66a",
        "outputId": "f30a51c3-cded-4d8a-a156-2bae2c8b8b35"
      },
      "outputs": [
        {
          "output_type": "stream",
          "name": "stdout",
          "text": [
            "Net(\n",
            "  (embedding): Embedding(2000, 128)\n",
            "  (conv): Conv1d(128, 128, kernel_size=(3,), stride=(1,))\n",
            "  (relu): ReLU()\n",
            "  (linear): Linear(in_features=128, out_features=20, bias=True)\n",
            ")\n",
            "Parameters: 307860\n"
          ]
        }
      ],
      "source": [
        "net = Net(vocab_size=2000, num_classes=20)\n",
        "\n",
        "print(net)\n",
        "print(\"Parameters:\", sum([param.nelement() for param in net.parameters()]))"
      ]
    },
    {
      "cell_type": "code",
      "execution_count": 26,
      "id": "4e4a348e",
      "metadata": {
        "scrolled": true,
        "colab": {
          "base_uri": "https://localhost:8080/"
        },
        "id": "4e4a348e",
        "outputId": "70c1b934-743f-4825-8af2-0daf2dcfbed8"
      },
      "outputs": [
        {
          "output_type": "stream",
          "name": "stdout",
          "text": [
            "x_train.shape: (7919, 40)\n",
            "x_val.shape: (3395, 40)\n",
            "x_test.shape: (7532, 40)\n"
          ]
        }
      ],
      "source": [
        "x_train, x_val, x_test, vocabulary = prepare_data(2000, 40)"
      ]
    },
    {
      "cell_type": "code",
      "execution_count": 27,
      "id": "5afbeb0a",
      "metadata": {
        "id": "5afbeb0a"
      },
      "outputs": [],
      "source": [
        "params = {\n",
        "    'dataset': DataWrapper,\n",
        "    'net': net,\n",
        "    'batch_size': 128,\n",
        "    'epoch_amount': 20, \n",
        "    'learning_rate': 1e-3,\n",
        "    'early_stopping': 5,\n",
        "    'loss_f': nn.CrossEntropyLoss(),\n",
        "    'optim': torch.optim.Adam,\n",
        "    'device': device\n",
        "}\n",
        "\n",
        "clf1 = Trainer(**params)"
      ]
    },
    {
      "cell_type": "code",
      "execution_count": 28,
      "id": "3fca9ee9",
      "metadata": {
        "colab": {
          "base_uri": "https://localhost:8080/"
        },
        "id": "3fca9ee9",
        "outputId": "b8d14188-587d-4bfb-9f59-be72fc0b6cec"
      },
      "outputs": [
        {
          "output_type": "stream",
          "name": "stdout",
          "text": [
            "Эпоха: 0 Loss_train: 2.892475143555672, 0:00:03.572712 сек\n",
            "Loss_val: 2.591214895248413\n",
            "\n",
            "Эпоха: 1 Loss_train: 2.3922681962290118, 0:00:03.361392 сек\n",
            "Loss_val: 2.1619837284088135\n",
            "\n",
            "Эпоха: 2 Loss_train: 1.8975751669176164, 0:00:03.606093 сек\n",
            "Loss_val: 1.8822054862976074\n",
            "\n",
            "Эпоха: 3 Loss_train: 1.5005450267945566, 0:00:03.262083 сек\n",
            "Loss_val: 1.5828734636306763\n",
            "\n",
            "Эпоха: 4 Loss_train: 1.1915070299179322, 0:00:03.257285 сек\n",
            "Loss_val: 1.3665105104446411\n",
            "\n",
            "Эпоха: 5 Loss_train: 0.9486455840449179, 0:00:04.071181 сек\n",
            "Loss_val: 1.2781072854995728\n",
            "\n",
            "Эпоха: 6 Loss_train: 0.7464382485035927, 0:00:03.280576 сек\n",
            "Loss_val: 1.1642943620681763\n",
            "\n",
            "Эпоха: 7 Loss_train: 0.5870071947574615, 0:00:03.286393 сек\n",
            "Loss_val: 1.110813021659851\n",
            "\n",
            "Эпоха: 8 Loss_train: 0.45350837467178223, 0:00:03.281544 сек\n",
            "Loss_val: 1.0735477209091187\n",
            "\n",
            "Эпоха: 9 Loss_train: 0.3504411929076718, 0:00:03.221779 сек\n",
            "Loss_val: 1.0738521814346313\n",
            "\n",
            "Эпоха: 10 Loss_train: 0.2677027828270389, 0:00:03.180875 сек\n",
            "Loss_val: 1.0093069076538086\n",
            "\n",
            "Эпоха: 11 Loss_train: 0.2056606443178269, 0:00:03.227750 сек\n",
            "Loss_val: 0.9585263729095459\n",
            "\n",
            "Эпоха: 12 Loss_train: 0.15525423002339178, 0:00:03.270122 сек\n",
            "Loss_val: 0.9941268563270569\n",
            "\n",
            "Эпоха: 13 Loss_train: 0.12023646156153371, 0:00:03.194497 сек\n",
            "Loss_val: 0.9960948824882507\n",
            "\n",
            "Эпоха: 14 Loss_train: 0.09475780554836796, 0:00:03.196837 сек\n",
            "Loss_val: 0.9904463887214661\n",
            "\n",
            "Эпоха: 15 Loss_train: 0.07680271794238398, 0:00:03.199814 сек\n",
            "Loss_val: 1.0461781024932861\n",
            "\n",
            "Эпоха: 16 Loss_train: 0.06302560805793732, 0:00:03.235127 сек\n",
            "Loss_val: 0.9886005520820618\n",
            "\n",
            "Эпоха: 17 Loss_train: 0.052036763198914066, 0:00:03.225852 сек\n",
            "Loss_val: 1.0187077522277832\n",
            "5 без улучшений. Прекращаем обучение...\n"
          ]
        }
      ],
      "source": [
        "clf1.fit(x_train, y_train, x_val, y_val)"
      ]
    },
    {
      "cell_type": "code",
      "execution_count": 29,
      "id": "86ede268",
      "metadata": {
        "id": "86ede268"
      },
      "outputs": [],
      "source": [
        "true_labels, pred_labels = clf1.get_clf_results(x_test, y_test)"
      ]
    },
    {
      "cell_type": "code",
      "execution_count": 30,
      "id": "1473b308",
      "metadata": {
        "colab": {
          "base_uri": "https://localhost:8080/",
          "height": 296
        },
        "id": "1473b308",
        "outputId": "581132a1-c77a-406d-b43d-26011dda91be"
      },
      "outputs": [
        {
          "output_type": "execute_result",
          "data": {
            "text/plain": [
              "<sklearn.metrics._plot.confusion_matrix.ConfusionMatrixDisplay at 0x7f6385b0c790>"
            ]
          },
          "metadata": {},
          "execution_count": 30
        },
        {
          "output_type": "display_data",
          "data": {
            "text/plain": [
              "<Figure size 432x288 with 2 Axes>"
            ],
            "image/png": "[encoded data removed]"
          },
          "metadata": {
            "needs_background": "light"
          }
        }
      ],
      "source": [
        "disp = ConfusionMatrixDisplay(confusion_matrix=confusion_matrix(true_labels, pred_labels))\n",
        "disp.plot()"
      ]
    },
    {
      "cell_type": "code",
      "execution_count": 31,
      "id": "9e4f992a",
      "metadata": {
        "colab": {
          "base_uri": "https://localhost:8080/"
        },
        "id": "9e4f992a",
        "outputId": "08c0f22b-2dba-4196-cf14-b9e6b969c268"
      },
      "outputs": [
        {
          "output_type": "stream",
          "name": "stdout",
          "text": [
            "              precision    recall  f1-score   support\n",
            "\n",
            "           0       0.38      0.39      0.38       319\n",
            "           1       0.42      0.43      0.43       389\n",
            "           2       0.55      0.54      0.54       394\n",
            "           3       0.41      0.49      0.45       392\n",
            "           4       0.49      0.46      0.48       385\n",
            "           5       0.59      0.57      0.58       395\n",
            "           6       0.68      0.70      0.69       390\n",
            "           7       0.53      0.62      0.57       396\n",
            "           8       0.77      0.70      0.73       398\n",
            "           9       0.57      0.53      0.55       397\n",
            "          10       0.73      0.72      0.73       399\n",
            "          11       0.61      0.65      0.63       396\n",
            "          12       0.35      0.31      0.33       393\n",
            "          13       0.41      0.41      0.41       396\n",
            "          14       0.58      0.59      0.59       394\n",
            "          15       0.52      0.56      0.54       398\n",
            "          16       0.46      0.53      0.49       364\n",
            "          17       0.77      0.54      0.64       376\n",
            "          18       0.40      0.42      0.41       310\n",
            "          19       0.29      0.27      0.28       251\n",
            "\n",
            "    accuracy                           0.53      7532\n",
            "   macro avg       0.53      0.52      0.52      7532\n",
            "weighted avg       0.53      0.53      0.53      7532\n",
            "\n"
          ]
        }
      ],
      "source": [
        "print(classification_report(true_labels, pred_labels))"
      ]
    },
    {
      "cell_type": "markdown",
      "id": "5de0fdba",
      "metadata": {
        "id": "5de0fdba"
      },
      "source": [
        "### Вариант #2"
      ]
    },
    {
      "cell_type": "code",
      "execution_count": 32,
      "id": "aa83056e",
      "metadata": {
        "scrolled": true,
        "colab": {
          "base_uri": "https://localhost:8080/"
        },
        "id": "aa83056e",
        "outputId": "8980f168-14e8-4e4e-f15c-5466ebc93413"
      },
      "outputs": [
        {
          "output_type": "stream",
          "name": "stdout",
          "text": [
            "Net(\n",
            "  (embedding): Embedding(2000, 256)\n",
            "  (conv): Conv1d(256, 256, kernel_size=(3,), stride=(1,))\n",
            "  (relu): ReLU()\n",
            "  (linear): Linear(in_features=256, out_features=20, bias=True)\n",
            ")\n",
            "Parameters: 714004\n"
          ]
        }
      ],
      "source": [
        "net = Net(vocab_size=2000, embedding_dim=256, out_channel=256, num_classes=20)\n",
        "\n",
        "print(net)\n",
        "print(\"Parameters:\", sum([param.nelement() for param in net.parameters()]))"
      ]
    },
    {
      "cell_type": "code",
      "execution_count": 33,
      "id": "96a5778b",
      "metadata": {
        "id": "96a5778b"
      },
      "outputs": [],
      "source": [
        "params = {\n",
        "    'dataset': DataWrapper,\n",
        "    'net': net,\n",
        "    'batch_size': 128,\n",
        "    'epoch_amount': 20, \n",
        "    'learning_rate': 1e-3,\n",
        "    'early_stopping': 5,\n",
        "    'loss_f': nn.CrossEntropyLoss(),\n",
        "    'optim': torch.optim.Adam,\n",
        "    'device': device\n",
        "}\n",
        "\n",
        "clf2 = Trainer(**params)"
      ]
    },
    {
      "cell_type": "code",
      "execution_count": 34,
      "id": "da192a58",
      "metadata": {
        "colab": {
          "base_uri": "https://localhost:8080/"
        },
        "id": "da192a58",
        "outputId": "ba6fab62-6cd6-43d1-e1ae-bb7a120de44d"
      },
      "outputs": [
        {
          "output_type": "stream",
          "name": "stdout",
          "text": [
            "Эпоха: 0 Loss_train: 2.6708356949590866, 0:00:09.935897 сек\n",
            "Loss_val: 2.14377498626709\n",
            "\n",
            "Эпоха: 1 Loss_train: 1.6179586072121896, 0:00:09.857116 сек\n",
            "Loss_val: 1.5809332132339478\n",
            "\n",
            "Эпоха: 2 Loss_train: 1.0092092656320142, 0:00:09.817006 сек\n",
            "Loss_val: 1.3944604396820068\n",
            "\n",
            "Эпоха: 3 Loss_train: 0.6202031547023404, 0:00:09.807962 сек\n",
            "Loss_val: 1.309485673904419\n",
            "\n",
            "Эпоха: 4 Loss_train: 0.3532640188932419, 0:00:09.857002 сек\n",
            "Loss_val: 1.1890579462051392\n",
            "\n",
            "Эпоха: 5 Loss_train: 0.19459789727003343, 0:00:09.886653 сек\n",
            "Loss_val: 1.2002849578857422\n",
            "\n",
            "Эпоха: 6 Loss_train: 0.11084881364818543, 0:00:09.871690 сек\n",
            "Loss_val: 1.2118855714797974\n",
            "\n",
            "Эпоха: 7 Loss_train: 0.0712860738558154, 0:00:09.931458 сек\n",
            "Loss_val: 1.2346032857894897\n",
            "\n",
            "Эпоха: 8 Loss_train: 0.05055072855564856, 0:00:09.986537 сек\n",
            "Loss_val: 1.2610664367675781\n",
            "\n",
            "Эпоха: 9 Loss_train: 0.03808978722701149, 0:00:09.836431 сек\n",
            "Loss_val: 1.2437304258346558\n",
            "\n",
            "Эпоха: 10 Loss_train: 0.031247835876720566, 0:00:09.940857 сек\n",
            "Loss_val: 1.2571775913238525\n",
            "5 без улучшений. Прекращаем обучение...\n"
          ]
        }
      ],
      "source": [
        "clf2.fit(x_train, y_train, x_val, y_val)"
      ]
    },
    {
      "cell_type": "code",
      "execution_count": 35,
      "id": "ed7e14e9",
      "metadata": {
        "id": "ed7e14e9"
      },
      "outputs": [],
      "source": [
        "true_labels, pred_labels = clf2.get_clf_results(x_test, y_test)"
      ]
    },
    {
      "cell_type": "code",
      "execution_count": 36,
      "id": "c729ec46",
      "metadata": {
        "colab": {
          "base_uri": "https://localhost:8080/"
        },
        "id": "c729ec46",
        "outputId": "62431f07-1794-4505-f00e-3390f7a616c4"
      },
      "outputs": [
        {
          "output_type": "stream",
          "name": "stdout",
          "text": [
            "              precision    recall  f1-score   support\n",
            "\n",
            "           0       0.44      0.50      0.47       319\n",
            "           1       0.51      0.54      0.53       389\n",
            "           2       0.59      0.59      0.59       394\n",
            "           3       0.53      0.47      0.50       392\n",
            "           4       0.64      0.54      0.59       385\n",
            "           5       0.63      0.65      0.64       395\n",
            "           6       0.79      0.70      0.74       390\n",
            "           7       0.58      0.66      0.62       396\n",
            "           8       0.77      0.78      0.77       398\n",
            "           9       0.61      0.62      0.62       397\n",
            "          10       0.76      0.73      0.74       399\n",
            "          11       0.68      0.69      0.69       396\n",
            "          12       0.35      0.48      0.40       393\n",
            "          13       0.57      0.54      0.55       396\n",
            "          14       0.64      0.64      0.64       394\n",
            "          15       0.60      0.56      0.58       398\n",
            "          16       0.52      0.58      0.55       364\n",
            "          17       0.79      0.64      0.71       376\n",
            "          18       0.46      0.40      0.43       310\n",
            "          19       0.28      0.28      0.28       251\n",
            "\n",
            "    accuracy                           0.59      7532\n",
            "   macro avg       0.59      0.58      0.58      7532\n",
            "weighted avg       0.60      0.59      0.59      7532\n",
            "\n"
          ]
        }
      ],
      "source": [
        "print(classification_report(true_labels, pred_labels))"
      ]
    },
    {
      "cell_type": "markdown",
      "id": "ecc53f65",
      "metadata": {
        "id": "ecc53f65"
      },
      "source": [
        "### Вариант #3"
      ]
    },
    {
      "cell_type": "code",
      "execution_count": 37,
      "id": "c55b45ac",
      "metadata": {
        "colab": {
          "base_uri": "https://localhost:8080/"
        },
        "id": "c55b45ac",
        "outputId": "c68953f0-efbc-4fdc-de89-7da0b8d1fd45"
      },
      "outputs": [
        {
          "output_type": "stream",
          "name": "stdout",
          "text": [
            "Net(\n",
            "  (embedding): Embedding(2000, 128)\n",
            "  (conv): Conv1d(128, 128, kernel_size=(3,), stride=(1,))\n",
            "  (relu): ReLU()\n",
            "  (linear): Linear(in_features=128, out_features=20, bias=True)\n",
            ")\n",
            "Parameters: 307860\n"
          ]
        }
      ],
      "source": [
        "net = Net(vocab_size=2000, num_classes=20)\n",
        "\n",
        "print(net)\n",
        "print(\"Parameters:\", sum([param.nelement() for param in net.parameters()]))"
      ]
    },
    {
      "cell_type": "code",
      "execution_count": 38,
      "id": "21307e56",
      "metadata": {
        "scrolled": true,
        "colab": {
          "base_uri": "https://localhost:8080/"
        },
        "id": "21307e56",
        "outputId": "57295168-5763-4856-c83c-0f751fa95b98"
      },
      "outputs": [
        {
          "output_type": "stream",
          "name": "stdout",
          "text": [
            "x_train.shape: (7919, 60)\n",
            "x_val.shape: (3395, 60)\n",
            "x_test.shape: (7532, 60)\n"
          ]
        }
      ],
      "source": [
        "x_train, x_val, x_test, vocabulary = prepare_data(2000, 60)"
      ]
    },
    {
      "cell_type": "code",
      "execution_count": 39,
      "id": "1e5b2921",
      "metadata": {
        "id": "1e5b2921"
      },
      "outputs": [],
      "source": [
        "params = {\n",
        "    'dataset': DataWrapper,\n",
        "    'net': net,\n",
        "    'batch_size': 128,\n",
        "    'epoch_amount': 20, \n",
        "    'learning_rate': 1e-3,\n",
        "    'early_stopping': 5,\n",
        "    'loss_f': nn.CrossEntropyLoss(),\n",
        "    'optim': torch.optim.Adam,\n",
        "    'device': device\n",
        "}\n",
        "\n",
        "clf3 = Trainer(**params)"
      ]
    },
    {
      "cell_type": "code",
      "execution_count": 40,
      "id": "9426a6d3",
      "metadata": {
        "colab": {
          "base_uri": "https://localhost:8080/"
        },
        "id": "9426a6d3",
        "outputId": "e22480ef-63ff-4d97-af08-162c7f7abb08"
      },
      "outputs": [
        {
          "output_type": "stream",
          "name": "stdout",
          "text": [
            "Эпоха: 0 Loss_train: 2.8631850634851763, 0:00:04.489164 сек\n",
            "Loss_val: 2.559260129928589\n",
            "\n",
            "Эпоха: 1 Loss_train: 2.3190675089436192, 0:00:04.408538 сек\n",
            "Loss_val: 2.03096604347229\n",
            "\n",
            "Эпоха: 2 Loss_train: 1.7641141972234171, 0:00:04.491214 сек\n",
            "Loss_val: 1.6068027019500732\n",
            "\n",
            "Эпоха: 3 Loss_train: 1.358329669121773, 0:00:04.423744 сек\n",
            "Loss_val: 1.4130585193634033\n",
            "\n",
            "Эпоха: 4 Loss_train: 1.0650692072606855, 0:00:04.393924 сек\n",
            "Loss_val: 1.232444167137146\n",
            "\n",
            "Эпоха: 5 Loss_train: 0.8416009852963109, 0:00:04.253780 сек\n",
            "Loss_val: 1.222477912902832\n",
            "\n",
            "Эпоха: 6 Loss_train: 0.6623941260960794, 0:00:04.394771 сек\n",
            "Loss_val: 1.0982449054718018\n",
            "\n",
            "Эпоха: 7 Loss_train: 0.5169376163713394, 0:00:04.430582 сек\n",
            "Loss_val: 1.0848164558410645\n",
            "\n",
            "Эпоха: 8 Loss_train: 0.40182133115107016, 0:00:04.350635 сек\n",
            "Loss_val: 1.0206217765808105\n",
            "\n",
            "Эпоха: 9 Loss_train: 0.3078906543312534, 0:00:04.415697 сек\n",
            "Loss_val: 1.004296898841858\n",
            "\n",
            "Эпоха: 10 Loss_train: 0.23631066997205058, 0:00:04.374960 сек\n",
            "Loss_val: 1.0645560026168823\n",
            "\n",
            "Эпоха: 11 Loss_train: 0.1800445121142172, 0:00:04.404229 сек\n",
            "Loss_val: 1.0144702196121216\n",
            "\n",
            "Эпоха: 12 Loss_train: 0.13805971378760953, 0:00:04.349752 сек\n",
            "Loss_val: 1.0230234861373901\n",
            "\n",
            "Эпоха: 13 Loss_train: 0.10671365934033547, 0:00:04.254942 сек\n",
            "Loss_val: 1.0151187181472778\n",
            "\n",
            "Эпоха: 14 Loss_train: 0.08444956762175407, 0:00:04.355876 сек\n",
            "Loss_val: 0.9933197498321533\n",
            "\n",
            "Эпоха: 15 Loss_train: 0.06814681402137203, 0:00:04.359228 сек\n",
            "Loss_val: 0.9923844933509827\n",
            "\n",
            "Эпоха: 16 Loss_train: 0.055873031818097635, 0:00:04.287853 сек\n",
            "Loss_val: 0.986836314201355\n",
            "\n",
            "Эпоха: 17 Loss_train: 0.0464960947152107, 0:00:04.276133 сек\n",
            "Loss_val: 1.0337666273117065\n",
            "\n",
            "Эпоха: 18 Loss_train: 0.03954265906565612, 0:00:04.245737 сек\n",
            "Loss_val: 1.0126984119415283\n",
            "\n",
            "Эпоха: 19 Loss_train: 0.03406130651673002, 0:00:04.194849 сек\n",
            "Loss_val: 1.0213786363601685\n",
            "\n"
          ]
        }
      ],
      "source": [
        "clf3.fit(x_train, y_train, x_val, y_val)"
      ]
    },
    {
      "cell_type": "code",
      "execution_count": 41,
      "id": "3080279a",
      "metadata": {
        "id": "3080279a"
      },
      "outputs": [],
      "source": [
        "true_labels, pred_labels = clf3.get_clf_results(x_test, y_test)"
      ]
    },
    {
      "cell_type": "code",
      "execution_count": 42,
      "id": "8abbea50",
      "metadata": {
        "colab": {
          "base_uri": "https://localhost:8080/"
        },
        "id": "8abbea50",
        "outputId": "fe2b84bd-a3f2-45d9-f36b-585b96e6fcef"
      },
      "outputs": [
        {
          "output_type": "stream",
          "name": "stdout",
          "text": [
            "              precision    recall  f1-score   support\n",
            "\n",
            "           0       0.47      0.54      0.50       319\n",
            "           1       0.55      0.51      0.53       389\n",
            "           2       0.57      0.61      0.59       394\n",
            "           3       0.51      0.51      0.51       392\n",
            "           4       0.59      0.60      0.60       385\n",
            "           5       0.68      0.61      0.64       395\n",
            "           6       0.72      0.73      0.73       390\n",
            "           7       0.61      0.65      0.63       396\n",
            "           8       0.78      0.77      0.78       398\n",
            "           9       0.65      0.62      0.64       397\n",
            "          10       0.78      0.76      0.77       399\n",
            "          11       0.72      0.72      0.72       396\n",
            "          12       0.38      0.44      0.41       393\n",
            "          13       0.50      0.49      0.50       396\n",
            "          14       0.65      0.63      0.64       394\n",
            "          15       0.59      0.63      0.61       398\n",
            "          16       0.53      0.59      0.55       364\n",
            "          17       0.86      0.65      0.74       376\n",
            "          18       0.37      0.38      0.38       310\n",
            "          19       0.34      0.30      0.32       251\n",
            "\n",
            "    accuracy                           0.60      7532\n",
            "   macro avg       0.59      0.59      0.59      7532\n",
            "weighted avg       0.60      0.60      0.60      7532\n",
            "\n"
          ]
        }
      ],
      "source": [
        "print(classification_report(true_labels, pred_labels))"
      ]
    },
    {
      "cell_type": "markdown",
      "id": "91e404bf",
      "metadata": {
        "id": "91e404bf"
      },
      "source": [
        "### Вариант #4"
      ]
    },
    {
      "cell_type": "code",
      "execution_count": 43,
      "id": "8c0d9de7",
      "metadata": {
        "scrolled": true,
        "colab": {
          "base_uri": "https://localhost:8080/"
        },
        "id": "8c0d9de7",
        "outputId": "7dca312b-2d86-4026-aa4e-630e5eed2d97"
      },
      "outputs": [
        {
          "output_type": "stream",
          "name": "stdout",
          "text": [
            "Net(\n",
            "  (embedding): Embedding(4000, 256)\n",
            "  (conv): Conv1d(256, 256, kernel_size=(3,), stride=(1,))\n",
            "  (relu): ReLU()\n",
            "  (linear): Linear(in_features=256, out_features=20, bias=True)\n",
            ")\n",
            "Parameters: 1226004\n"
          ]
        }
      ],
      "source": [
        "net = Net(vocab_size=4000, embedding_dim=256, out_channel=256, num_classes=20)\n",
        "\n",
        "print(net)\n",
        "print(\"Parameters:\", sum([param.nelement() for param in net.parameters()]))"
      ]
    },
    {
      "cell_type": "code",
      "execution_count": 44,
      "id": "d652349e",
      "metadata": {
        "scrolled": true,
        "colab": {
          "base_uri": "https://localhost:8080/"
        },
        "id": "d652349e",
        "outputId": "ddfed34d-ca88-4e31-e51b-9f532f3d55ae"
      },
      "outputs": [
        {
          "output_type": "stream",
          "name": "stdout",
          "text": [
            "x_train.shape: (7919, 60)\n",
            "x_val.shape: (3395, 60)\n",
            "x_test.shape: (7532, 60)\n"
          ]
        }
      ],
      "source": [
        "x_train, x_val, x_test, vocabulary = prepare_data(4000, 60)"
      ]
    },
    {
      "cell_type": "code",
      "execution_count": 45,
      "id": "431866f8",
      "metadata": {
        "id": "431866f8"
      },
      "outputs": [],
      "source": [
        "params = {\n",
        "    'dataset': DataWrapper,\n",
        "    'net': net,\n",
        "    'batch_size': 128,\n",
        "    'epoch_amount': 20, \n",
        "    'learning_rate': 1e-3,\n",
        "    'early_stopping': 5,\n",
        "    'loss_f': nn.CrossEntropyLoss(),\n",
        "    'optim': torch.optim.Adam,\n",
        "    'device': device\n",
        "}\n",
        "\n",
        "clf4 = Trainer(**params)"
      ]
    },
    {
      "cell_type": "code",
      "execution_count": 46,
      "id": "4e87d61e",
      "metadata": {
        "scrolled": false,
        "colab": {
          "base_uri": "https://localhost:8080/"
        },
        "id": "4e87d61e",
        "outputId": "fc6b9fe3-da44-41ee-f6fb-76fece07b620"
      },
      "outputs": [
        {
          "output_type": "stream",
          "name": "stdout",
          "text": [
            "Эпоха: 0 Loss_train: 2.6810216519140426, 0:00:14.037826 сек\n",
            "Loss_val: 2.0264434814453125\n",
            "\n",
            "Эпоха: 1 Loss_train: 1.607700276759363, 0:00:13.697669 сек\n",
            "Loss_val: 1.4018487930297852\n",
            "\n",
            "Эпоха: 2 Loss_train: 0.9716778013014025, 0:00:13.927552 сек\n",
            "Loss_val: 1.1034209728240967\n",
            "\n",
            "Эпоха: 3 Loss_train: 0.5739466672943484, 0:00:13.974526 сек\n",
            "Loss_val: 0.9939522743225098\n",
            "\n",
            "Эпоха: 4 Loss_train: 0.3124633599673548, 0:00:13.934683 сек\n",
            "Loss_val: 0.8584520220756531\n",
            "\n",
            "Эпоха: 5 Loss_train: 0.16375134044116543, 0:00:13.957742 сек\n",
            "Loss_val: 0.8135885000228882\n",
            "\n",
            "Эпоха: 6 Loss_train: 0.09388948928925299, 0:00:15.106910 сек\n",
            "Loss_val: 0.7961558103561401\n",
            "\n",
            "Эпоха: 7 Loss_train: 0.06035969724818584, 0:00:27.587084 сек\n",
            "Loss_val: 0.8057540059089661\n",
            "\n",
            "Эпоха: 8 Loss_train: 0.0427433799111074, 0:00:14.107857 сек\n",
            "Loss_val: 0.8036873936653137\n",
            "\n",
            "Эпоха: 9 Loss_train: 0.0324480680508479, 0:00:13.988014 сек\n",
            "Loss_val: 0.76949542760849\n",
            "\n",
            "Эпоха: 10 Loss_train: 0.025165556329152277, 0:00:14.252213 сек\n",
            "Loss_val: 0.7718759775161743\n",
            "\n",
            "Эпоха: 11 Loss_train: 0.021552201841146715, 0:00:14.343657 сек\n",
            "Loss_val: 0.7572377920150757\n",
            "\n",
            "Эпоха: 12 Loss_train: 0.01910465852087063, 0:00:19.866062 сек\n",
            "Loss_val: 0.7745662927627563\n",
            "\n",
            "Эпоха: 13 Loss_train: 0.01492296307978611, 0:00:14.222552 сек\n",
            "Loss_val: 0.7801032662391663\n",
            "\n",
            "Эпоха: 14 Loss_train: 0.013836190570145845, 0:00:14.990517 сек\n",
            "Loss_val: 0.794681191444397\n",
            "\n",
            "Эпоха: 15 Loss_train: 0.012473331388807105, 0:00:14.379668 сек\n",
            "Loss_val: 0.7846643328666687\n",
            "\n",
            "Эпоха: 16 Loss_train: 0.011393057204963218, 0:00:14.127019 сек\n",
            "Loss_val: 0.7905325889587402\n",
            "\n",
            "Эпоха: 17 Loss_train: 0.01085261008401792, 0:00:14.326267 сек\n",
            "Loss_val: 0.8067202568054199\n",
            "5 без улучшений. Прекращаем обучение...\n"
          ]
        }
      ],
      "source": [
        "clf4.fit(x_train, y_train, x_val, y_val)"
      ]
    },
    {
      "cell_type": "code",
      "execution_count": 47,
      "id": "3ebc6598",
      "metadata": {
        "id": "3ebc6598"
      },
      "outputs": [],
      "source": [
        "true_labels, pred_labels = clf4.get_clf_results(x_test, y_test)"
      ]
    },
    {
      "cell_type": "code",
      "execution_count": 48,
      "id": "6894b406",
      "metadata": {
        "colab": {
          "base_uri": "https://localhost:8080/"
        },
        "id": "6894b406",
        "outputId": "c39ac20c-3cd8-4360-b5f5-32b6100d6c92"
      },
      "outputs": [
        {
          "output_type": "stream",
          "name": "stdout",
          "text": [
            "              precision    recall  f1-score   support\n",
            "\n",
            "           0       0.47      0.48      0.48       319\n",
            "           1       0.54      0.60      0.57       389\n",
            "           2       0.66      0.62      0.64       394\n",
            "           3       0.53      0.56      0.55       392\n",
            "           4       0.66      0.62      0.64       385\n",
            "           5       0.68      0.69      0.69       395\n",
            "           6       0.82      0.68      0.74       390\n",
            "           7       0.65      0.69      0.67       396\n",
            "           8       0.79      0.79      0.79       398\n",
            "           9       0.67      0.69      0.68       397\n",
            "          10       0.81      0.81      0.81       399\n",
            "          11       0.77      0.74      0.75       396\n",
            "          12       0.40      0.51      0.45       393\n",
            "          13       0.62      0.57      0.59       396\n",
            "          14       0.80      0.70      0.75       394\n",
            "          15       0.61      0.70      0.65       398\n",
            "          16       0.62      0.64      0.63       364\n",
            "          17       0.86      0.66      0.75       376\n",
            "          18       0.44      0.45      0.45       310\n",
            "          19       0.41      0.39      0.40       251\n",
            "\n",
            "    accuracy                           0.64      7532\n",
            "   macro avg       0.64      0.63      0.63      7532\n",
            "weighted avg       0.65      0.64      0.64      7532\n",
            "\n"
          ]
        }
      ],
      "source": [
        "print(classification_report(true_labels, pred_labels))"
      ]
    },
    {
      "cell_type": "code",
      "execution_count": 49,
      "id": "021b2ca9",
      "metadata": {
        "id": "021b2ca9"
      },
      "outputs": [],
      "source": [
        "def plot_loss():\n",
        "    plt.figure(figsize=(12, 5))\n",
        "    plt.plot(range(len(clf1.train_loss)), clf1.train_loss, label='train 1', linestyle='--')\n",
        "    plt.plot(range(len(clf1.val_loss)), clf1.val_loss, marker='o', label='val 1')\n",
        "    plt.plot(range(len(clf2.train_loss)), clf2.train_loss, label='train 2', linestyle='--')\n",
        "    plt.plot(range(len(clf2.val_loss)), clf2.val_loss, marker='o', label='val 2')\n",
        "    plt.plot(range(len(clf3.train_loss)), clf3.train_loss, label='train 3', linestyle='--')\n",
        "    plt.plot(range(len(clf3.val_loss)), clf3.val_loss, marker='o', label='val 3')\n",
        "    plt.plot(range(len(clf4.train_loss)), clf4.train_loss, label='train 4', linestyle='--')\n",
        "    plt.plot(range(len(clf4.val_loss)), clf4.val_loss, marker='o', label='val 4')\n",
        "    plt.legend()\n",
        "    plt.show()"
      ]
    },
    {
      "cell_type": "code",
      "execution_count": 50,
      "id": "312f4324",
      "metadata": {
        "colab": {
          "base_uri": "https://localhost:8080/",
          "height": 321
        },
        "id": "312f4324",
        "outputId": "7a32f51a-fdd0-4c44-84f3-4881bc1ccacf"
      },
      "outputs": [
        {
          "output_type": "display_data",
          "data": {
            "text/plain": [
              "<Figure size 864x360 with 1 Axes>"
            ],
            "image/png": "[encoded data removed]"
          },
          "metadata": {
            "needs_background": "light"
          }
        }
      ],
      "source": [
        "plot_loss()"
      ]
    }
  ],
  "metadata": {
    "kernelspec": {
      "display_name": "Python 3 (ipykernel)",
      "language": "python",
      "name": "python3"
    },
    "language_info": {
      "codemirror_mode": {
        "name": "ipython",
        "version": 3
      },
      "file_extension": ".py",
      "mimetype": "text/x-python",
      "name": "python",
      "nbconvert_exporter": "python",
      "pygments_lexer": "ipython3",
      "version": "3.8.5"
    },
    "colab": {
      "name": "HW-#6.ipynb",
      "provenance": [],
      "include_colab_link": true
    }
  },
  "nbformat": 4,
  "nbformat_minor": 5
}